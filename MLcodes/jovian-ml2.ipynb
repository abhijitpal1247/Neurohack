{
 "cells": [
  {
   "cell_type": "code",
   "execution_count": 1,
   "metadata": {},
   "outputs": [],
   "source": [
    "# Libraries for data loading, data viz and EDA\n",
    "import json \n",
    "import numpy as np\n",
    "import pandas as pd\n",
    "import seaborn as sns\n",
    "import matplotlib.pyplot as plt\n",
    "%matplotlib inline\n",
    "\n",
    "# Libraries for text preprocessing and analysis\n",
    "import re,nltk,spacy,string\n",
    "nlp=spacy.load(\"en_core_web_sm\")\n",
    "from tqdm import tqdm\n",
    "from sklearn.feature_extraction.text import CountVectorizer, TfidfVectorizer, TfidfTransformer\n",
    "from sklearn.decomposition import NMF\n",
    "from nltk.stem import WordNetLemmatizer\n",
    "from textblob import TextBlob\n",
    "from wordcloud import WordCloud, STOPWORDS\n",
    "\n",
    "# Libraries for model evaluation metrics\n",
    "from sklearn.model_selection import train_test_split, GridSearchCV, RandomizedSearchCV\n",
    "from sklearn.metrics import confusion_matrix, f1_score, classification_report\n",
    "\n",
    "# Remove warnings\n",
    "import warnings\n",
    "warnings.filterwarnings('ignore')\n",
    "\n",
    "# row/column display limit\n",
    "pd.set_option('display.max_rows',None)\n",
    "pd.set_option('display.max_columns',None)\n",
    "pd.set_option('display.width', None)\n",
    "pd.set_option('display.max_colwidth', None)"
   ]
  },
  {
   "cell_type": "code",
   "execution_count": 2,
   "metadata": {},
   "outputs": [],
   "source": [
    "df = pd.read_excel('cisco_from_db.xlsx')"
   ]
  },
  {
   "cell_type": "code",
   "execution_count": 3,
   "metadata": {},
   "outputs": [
    {
     "data": {
      "text/html": [
       "<div>\n",
       "<style scoped>\n",
       "    .dataframe tbody tr th:only-of-type {\n",
       "        vertical-align: middle;\n",
       "    }\n",
       "\n",
       "    .dataframe tbody tr th {\n",
       "        vertical-align: top;\n",
       "    }\n",
       "\n",
       "    .dataframe thead th {\n",
       "        text-align: right;\n",
       "    }\n",
       "</style>\n",
       "<table border=\"1\" class=\"dataframe\">\n",
       "  <thead>\n",
       "    <tr style=\"text-align: right;\">\n",
       "      <th></th>\n",
       "      <th>incident_number</th>\n",
       "      <th>uncleaned_description</th>\n",
       "      <th>cleaned_description</th>\n",
       "      <th>cluster_number</th>\n",
       "      <th>predicted_tag</th>\n",
       "      <th>userdefined_tag</th>\n",
       "      <th>score</th>\n",
       "    </tr>\n",
       "  </thead>\n",
       "  <tbody>\n",
       "    <tr>\n",
       "      <th>0</th>\n",
       "      <td>INC2617296</td>\n",
       "      <td>Channel Overlay Debooking of Mio against NTT Germany needs to be corrected</td>\n",
       "      <td>channel overlay debooking against ntt germany needs to corrected</td>\n",
       "      <td>NaN</td>\n",
       "      <td>report_requests</td>\n",
       "      <td>NaN</td>\n",
       "      <td>49</td>\n",
       "    </tr>\n",
       "    <tr>\n",
       "      <th>1</th>\n",
       "      <td>INC2617297</td>\n",
       "      <td>Error Image Pull Back off Issue for Prod deployment</td>\n",
       "      <td>error image pull back off issue prod deployment</td>\n",
       "      <td>NaN</td>\n",
       "      <td>deployment_related</td>\n",
       "      <td>NaN</td>\n",
       "      <td>100</td>\n",
       "    </tr>\n",
       "    <tr>\n",
       "      <th>2</th>\n",
       "      <td>INC2617298</td>\n",
       "      <td>Gate Failed error for deployment</td>\n",
       "      <td>gate failed error deployment</td>\n",
       "      <td>NaN</td>\n",
       "      <td>deployment_related</td>\n",
       "      <td>deployment_related</td>\n",
       "      <td>100</td>\n",
       "    </tr>\n",
       "    <tr>\n",
       "      <th>3</th>\n",
       "      <td>INC2617309</td>\n",
       "      <td>Hi Team Please note that Quote is in conversion failed status However there is no hold on SO Kindly provide us workaround and reply at the earliest Regards Imran S</td>\n",
       "      <td>hi team please note quote in conversion failed status however no hold on so provide us workaround reply earliest regards imran s</td>\n",
       "      <td>NaN</td>\n",
       "      <td>storage_related</td>\n",
       "      <td>NaN</td>\n",
       "      <td>89</td>\n",
       "    </tr>\n",
       "    <tr>\n",
       "      <th>4</th>\n",
       "      <td>INC2617312</td>\n",
       "      <td>Aurora Development Service ADS My system is down or something is broken Please help Enter Hostname bgl ads Please enter a detailed problem descriptio</td>\n",
       "      <td>aurora development service ads system down something broken please help enter hostname enter detailed problem descriptio</td>\n",
       "      <td>NaN</td>\n",
       "      <td>Infra_related_ads</td>\n",
       "      <td>Infra_related_ads</td>\n",
       "      <td>100</td>\n",
       "    </tr>\n",
       "  </tbody>\n",
       "</table>\n",
       "</div>"
      ],
      "text/plain": [
       "  incident_number  \\\n",
       "0      INC2617296   \n",
       "1      INC2617297   \n",
       "2      INC2617298   \n",
       "3      INC2617309   \n",
       "4      INC2617312   \n",
       "\n",
       "                                                                                                                                                 uncleaned_description  \\\n",
       "0                                                                                           Channel Overlay Debooking of Mio against NTT Germany needs to be corrected   \n",
       "1                                                                                                                  Error Image Pull Back off Issue for Prod deployment   \n",
       "2                                                                                                                                     Gate Failed error for deployment   \n",
       "3  Hi Team Please note that Quote is in conversion failed status However there is no hold on SO Kindly provide us workaround and reply at the earliest Regards Imran S   \n",
       "4                Aurora Development Service ADS My system is down or something is broken Please help Enter Hostname bgl ads Please enter a detailed problem descriptio   \n",
       "\n",
       "                                                                                                                cleaned_description  \\\n",
       "0                                                                  channel overlay debooking against ntt germany needs to corrected   \n",
       "1                                                                                   error image pull back off issue prod deployment   \n",
       "2                                                                                                      gate failed error deployment   \n",
       "3  hi team please note quote in conversion failed status however no hold on so provide us workaround reply earliest regards imran s   \n",
       "4          aurora development service ads system down something broken please help enter hostname enter detailed problem descriptio   \n",
       "\n",
       "   cluster_number       predicted_tag     userdefined_tag  score  \n",
       "0             NaN     report_requests                 NaN     49  \n",
       "1             NaN  deployment_related                 NaN    100  \n",
       "2             NaN  deployment_related  deployment_related    100  \n",
       "3             NaN     storage_related                 NaN     89  \n",
       "4             NaN   Infra_related_ads   Infra_related_ads    100  "
      ]
     },
     "execution_count": 3,
     "metadata": {},
     "output_type": "execute_result"
    }
   ],
   "source": [
    "df.head()"
   ]
  },
  {
   "cell_type": "code",
   "execution_count": 4,
   "metadata": {},
   "outputs": [
    {
     "data": {
      "text/plain": [
       "(41917, 7)"
      ]
     },
     "execution_count": 4,
     "metadata": {},
     "output_type": "execute_result"
    }
   ],
   "source": [
    "df.shape"
   ]
  },
  {
   "cell_type": "code",
   "execution_count": 5,
   "metadata": {},
   "outputs": [],
   "source": [
    "# Write your function here to clean the text and remove all the unnecessary elements.\n",
    "def clean_texts(text):\n",
    "    #Make the text lowercase\n",
    "    text=text.lower()\n",
    "    \n",
    "    #Remove text in square brackets\n",
    "    text=re.sub(r'\\[.*?\\]','',text)\n",
    "    \n",
    "    #Remove punctuation\n",
    "    text=re.sub(r'[%s]%re.escape(string.punctuation)','',text)\n",
    "    \n",
    "    #Remove words containing numbers\n",
    "    text = re.sub(r'\\w*\\d\\w*', '', text)\n",
    "    \n",
    "    return text"
   ]
  },
  {
   "cell_type": "code",
   "execution_count": 6,
   "metadata": {},
   "outputs": [],
   "source": [
    "df = df[df['uncleaned_description'].notna()]"
   ]
  },
  {
   "cell_type": "code",
   "execution_count": 7,
   "metadata": {},
   "outputs": [],
   "source": [
    "#Cleaning df['complaint_what_happened']\n",
    "df['cleansed_description']= df['uncleaned_description'].apply(lambda x: clean_texts(x))"
   ]
  },
  {
   "cell_type": "code",
   "execution_count": 8,
   "metadata": {},
   "outputs": [
    {
     "data": {
      "text/html": [
       "<div>\n",
       "<style scoped>\n",
       "    .dataframe tbody tr th:only-of-type {\n",
       "        vertical-align: middle;\n",
       "    }\n",
       "\n",
       "    .dataframe tbody tr th {\n",
       "        vertical-align: top;\n",
       "    }\n",
       "\n",
       "    .dataframe thead th {\n",
       "        text-align: right;\n",
       "    }\n",
       "</style>\n",
       "<table border=\"1\" class=\"dataframe\">\n",
       "  <thead>\n",
       "    <tr style=\"text-align: right;\">\n",
       "      <th></th>\n",
       "      <th>incident_number</th>\n",
       "      <th>uncleaned_description</th>\n",
       "      <th>cleaned_description</th>\n",
       "      <th>cluster_number</th>\n",
       "      <th>predicted_tag</th>\n",
       "      <th>userdefined_tag</th>\n",
       "      <th>score</th>\n",
       "      <th>cleansed_description</th>\n",
       "    </tr>\n",
       "  </thead>\n",
       "  <tbody>\n",
       "    <tr>\n",
       "      <th>0</th>\n",
       "      <td>INC2617296</td>\n",
       "      <td>Channel Overlay Debooking of Mio against NTT Germany needs to be corrected</td>\n",
       "      <td>channel overlay debooking against ntt germany needs to corrected</td>\n",
       "      <td>NaN</td>\n",
       "      <td>report_requests</td>\n",
       "      <td>NaN</td>\n",
       "      <td>49</td>\n",
       "      <td>channel overlay debooking of mio against ntt germany needs to be corrected</td>\n",
       "    </tr>\n",
       "    <tr>\n",
       "      <th>1</th>\n",
       "      <td>INC2617297</td>\n",
       "      <td>Error Image Pull Back off Issue for Prod deployment</td>\n",
       "      <td>error image pull back off issue prod deployment</td>\n",
       "      <td>NaN</td>\n",
       "      <td>deployment_related</td>\n",
       "      <td>NaN</td>\n",
       "      <td>100</td>\n",
       "      <td>error image pull back off issue for prod deployment</td>\n",
       "    </tr>\n",
       "    <tr>\n",
       "      <th>2</th>\n",
       "      <td>INC2617298</td>\n",
       "      <td>Gate Failed error for deployment</td>\n",
       "      <td>gate failed error deployment</td>\n",
       "      <td>NaN</td>\n",
       "      <td>deployment_related</td>\n",
       "      <td>deployment_related</td>\n",
       "      <td>100</td>\n",
       "      <td>gate failed error for deployment</td>\n",
       "    </tr>\n",
       "    <tr>\n",
       "      <th>3</th>\n",
       "      <td>INC2617309</td>\n",
       "      <td>Hi Team Please note that Quote is in conversion failed status However there is no hold on SO Kindly provide us workaround and reply at the earliest Regards Imran S</td>\n",
       "      <td>hi team please note quote in conversion failed status however no hold on so provide us workaround reply earliest regards imran s</td>\n",
       "      <td>NaN</td>\n",
       "      <td>storage_related</td>\n",
       "      <td>NaN</td>\n",
       "      <td>89</td>\n",
       "      <td>hi team please note that quote is in conversion failed status however there is no hold on so kindly provide us workaround and reply at the earliest regards imran s</td>\n",
       "    </tr>\n",
       "    <tr>\n",
       "      <th>4</th>\n",
       "      <td>INC2617312</td>\n",
       "      <td>Aurora Development Service ADS My system is down or something is broken Please help Enter Hostname bgl ads Please enter a detailed problem descriptio</td>\n",
       "      <td>aurora development service ads system down something broken please help enter hostname enter detailed problem descriptio</td>\n",
       "      <td>NaN</td>\n",
       "      <td>Infra_related_ads</td>\n",
       "      <td>Infra_related_ads</td>\n",
       "      <td>100</td>\n",
       "      <td>aurora development service ads my system is down or something is broken please help enter hostname bgl ads please enter a detailed problem descriptio</td>\n",
       "    </tr>\n",
       "  </tbody>\n",
       "</table>\n",
       "</div>"
      ],
      "text/plain": [
       "  incident_number  \\\n",
       "0      INC2617296   \n",
       "1      INC2617297   \n",
       "2      INC2617298   \n",
       "3      INC2617309   \n",
       "4      INC2617312   \n",
       "\n",
       "                                                                                                                                                 uncleaned_description  \\\n",
       "0                                                                                           Channel Overlay Debooking of Mio against NTT Germany needs to be corrected   \n",
       "1                                                                                                                  Error Image Pull Back off Issue for Prod deployment   \n",
       "2                                                                                                                                     Gate Failed error for deployment   \n",
       "3  Hi Team Please note that Quote is in conversion failed status However there is no hold on SO Kindly provide us workaround and reply at the earliest Regards Imran S   \n",
       "4                Aurora Development Service ADS My system is down or something is broken Please help Enter Hostname bgl ads Please enter a detailed problem descriptio   \n",
       "\n",
       "                                                                                                                cleaned_description  \\\n",
       "0                                                                  channel overlay debooking against ntt germany needs to corrected   \n",
       "1                                                                                   error image pull back off issue prod deployment   \n",
       "2                                                                                                      gate failed error deployment   \n",
       "3  hi team please note quote in conversion failed status however no hold on so provide us workaround reply earliest regards imran s   \n",
       "4          aurora development service ads system down something broken please help enter hostname enter detailed problem descriptio   \n",
       "\n",
       "   cluster_number       predicted_tag     userdefined_tag  score  \\\n",
       "0             NaN     report_requests                 NaN     49   \n",
       "1             NaN  deployment_related                 NaN    100   \n",
       "2             NaN  deployment_related  deployment_related    100   \n",
       "3             NaN     storage_related                 NaN     89   \n",
       "4             NaN   Infra_related_ads   Infra_related_ads    100   \n",
       "\n",
       "                                                                                                                                                  cleansed_description  \n",
       "0                                                                                           channel overlay debooking of mio against ntt germany needs to be corrected  \n",
       "1                                                                                                                  error image pull back off issue for prod deployment  \n",
       "2                                                                                                                                     gate failed error for deployment  \n",
       "3  hi team please note that quote is in conversion failed status however there is no hold on so kindly provide us workaround and reply at the earliest regards imran s  \n",
       "4                aurora development service ads my system is down or something is broken please help enter hostname bgl ads please enter a detailed problem descriptio  "
      ]
     },
     "execution_count": 8,
     "metadata": {},
     "output_type": "execute_result"
    }
   ],
   "source": [
    "df.head()"
   ]
  },
  {
   "cell_type": "code",
   "execution_count": 9,
   "metadata": {},
   "outputs": [],
   "source": [
    "#Write your function to Lemmatize the texts\n",
    "def lemma_texts(text):     \n",
    "        \n",
    "    # Initialize empty list to store lemmas\n",
    "    lemma_list = []\n",
    "    \n",
    "    # Extract lemmas of given text and add to the list 'sent'\n",
    "    document = nlp(text)\n",
    "    for word in document:\n",
    "        lemma_list.append(word.lemma_)\n",
    "        \n",
    "    # return string converted form of the list of lemmas\n",
    "    return \" \".join(lemma_list)"
   ]
  },
  {
   "cell_type": "code",
   "execution_count": 10,
   "metadata": {},
   "outputs": [],
   "source": [
    "tqdm.pandas()"
   ]
  },
  {
   "cell_type": "code",
   "execution_count": 11,
   "metadata": {},
   "outputs": [
    {
     "name": "stderr",
     "output_type": "stream",
     "text": [
      "100%|████████████████████████████████████| 41899/41899 [04:14<00:00, 164.53it/s]\n"
     ]
    },
    {
     "data": {
      "text/html": [
       "<div>\n",
       "<style scoped>\n",
       "    .dataframe tbody tr th:only-of-type {\n",
       "        vertical-align: middle;\n",
       "    }\n",
       "\n",
       "    .dataframe tbody tr th {\n",
       "        vertical-align: top;\n",
       "    }\n",
       "\n",
       "    .dataframe thead th {\n",
       "        text-align: right;\n",
       "    }\n",
       "</style>\n",
       "<table border=\"1\" class=\"dataframe\">\n",
       "  <thead>\n",
       "    <tr style=\"text-align: right;\">\n",
       "      <th></th>\n",
       "      <th>incident_number</th>\n",
       "      <th>uncleaned_description</th>\n",
       "      <th>cleaned_description</th>\n",
       "      <th>cluster_number</th>\n",
       "      <th>predicted_tag</th>\n",
       "      <th>userdefined_tag</th>\n",
       "      <th>score</th>\n",
       "      <th>cleansed_description</th>\n",
       "      <th>lemmatized_descriptipon</th>\n",
       "    </tr>\n",
       "  </thead>\n",
       "  <tbody>\n",
       "    <tr>\n",
       "      <th>0</th>\n",
       "      <td>INC2617296</td>\n",
       "      <td>Channel Overlay Debooking of Mio against NTT Germany needs to be corrected</td>\n",
       "      <td>channel overlay debooking against ntt germany needs to corrected</td>\n",
       "      <td>NaN</td>\n",
       "      <td>report_requests</td>\n",
       "      <td>NaN</td>\n",
       "      <td>49</td>\n",
       "      <td>channel overlay debooking of mio against ntt germany needs to be corrected</td>\n",
       "      <td>channel overlay debooke of mio against ntt germany need to be correct</td>\n",
       "    </tr>\n",
       "    <tr>\n",
       "      <th>1</th>\n",
       "      <td>INC2617297</td>\n",
       "      <td>Error Image Pull Back off Issue for Prod deployment</td>\n",
       "      <td>error image pull back off issue prod deployment</td>\n",
       "      <td>NaN</td>\n",
       "      <td>deployment_related</td>\n",
       "      <td>NaN</td>\n",
       "      <td>100</td>\n",
       "      <td>error image pull back off issue for prod deployment</td>\n",
       "      <td>error image pull back off issue for prod deployment</td>\n",
       "    </tr>\n",
       "    <tr>\n",
       "      <th>2</th>\n",
       "      <td>INC2617298</td>\n",
       "      <td>Gate Failed error for deployment</td>\n",
       "      <td>gate failed error deployment</td>\n",
       "      <td>NaN</td>\n",
       "      <td>deployment_related</td>\n",
       "      <td>deployment_related</td>\n",
       "      <td>100</td>\n",
       "      <td>gate failed error for deployment</td>\n",
       "      <td>gate fail error for deployment</td>\n",
       "    </tr>\n",
       "    <tr>\n",
       "      <th>3</th>\n",
       "      <td>INC2617309</td>\n",
       "      <td>Hi Team Please note that Quote is in conversion failed status However there is no hold on SO Kindly provide us workaround and reply at the earliest Regards Imran S</td>\n",
       "      <td>hi team please note quote in conversion failed status however no hold on so provide us workaround reply earliest regards imran s</td>\n",
       "      <td>NaN</td>\n",
       "      <td>storage_related</td>\n",
       "      <td>NaN</td>\n",
       "      <td>89</td>\n",
       "      <td>hi team please note that quote is in conversion failed status however there is no hold on so kindly provide us workaround and reply at the earliest regards imran s</td>\n",
       "      <td>hi team please note that quote be in conversion fail status however there be no hold on so kindly provide we workaround and reply at the early regard imran s</td>\n",
       "    </tr>\n",
       "    <tr>\n",
       "      <th>4</th>\n",
       "      <td>INC2617312</td>\n",
       "      <td>Aurora Development Service ADS My system is down or something is broken Please help Enter Hostname bgl ads Please enter a detailed problem descriptio</td>\n",
       "      <td>aurora development service ads system down something broken please help enter hostname enter detailed problem descriptio</td>\n",
       "      <td>NaN</td>\n",
       "      <td>Infra_related_ads</td>\n",
       "      <td>Infra_related_ads</td>\n",
       "      <td>100</td>\n",
       "      <td>aurora development service ads my system is down or something is broken please help enter hostname bgl ads please enter a detailed problem descriptio</td>\n",
       "      <td>aurora development service ad my system be down or something be break please help enter hostname bgl ad please enter a detailed problem descriptio</td>\n",
       "    </tr>\n",
       "  </tbody>\n",
       "</table>\n",
       "</div>"
      ],
      "text/plain": [
       "  incident_number  \\\n",
       "0      INC2617296   \n",
       "1      INC2617297   \n",
       "2      INC2617298   \n",
       "3      INC2617309   \n",
       "4      INC2617312   \n",
       "\n",
       "                                                                                                                                                 uncleaned_description  \\\n",
       "0                                                                                           Channel Overlay Debooking of Mio against NTT Germany needs to be corrected   \n",
       "1                                                                                                                  Error Image Pull Back off Issue for Prod deployment   \n",
       "2                                                                                                                                     Gate Failed error for deployment   \n",
       "3  Hi Team Please note that Quote is in conversion failed status However there is no hold on SO Kindly provide us workaround and reply at the earliest Regards Imran S   \n",
       "4                Aurora Development Service ADS My system is down or something is broken Please help Enter Hostname bgl ads Please enter a detailed problem descriptio   \n",
       "\n",
       "                                                                                                                cleaned_description  \\\n",
       "0                                                                  channel overlay debooking against ntt germany needs to corrected   \n",
       "1                                                                                   error image pull back off issue prod deployment   \n",
       "2                                                                                                      gate failed error deployment   \n",
       "3  hi team please note quote in conversion failed status however no hold on so provide us workaround reply earliest regards imran s   \n",
       "4          aurora development service ads system down something broken please help enter hostname enter detailed problem descriptio   \n",
       "\n",
       "   cluster_number       predicted_tag     userdefined_tag  score  \\\n",
       "0             NaN     report_requests                 NaN     49   \n",
       "1             NaN  deployment_related                 NaN    100   \n",
       "2             NaN  deployment_related  deployment_related    100   \n",
       "3             NaN     storage_related                 NaN     89   \n",
       "4             NaN   Infra_related_ads   Infra_related_ads    100   \n",
       "\n",
       "                                                                                                                                                  cleansed_description  \\\n",
       "0                                                                                           channel overlay debooking of mio against ntt germany needs to be corrected   \n",
       "1                                                                                                                  error image pull back off issue for prod deployment   \n",
       "2                                                                                                                                     gate failed error for deployment   \n",
       "3  hi team please note that quote is in conversion failed status however there is no hold on so kindly provide us workaround and reply at the earliest regards imran s   \n",
       "4                aurora development service ads my system is down or something is broken please help enter hostname bgl ads please enter a detailed problem descriptio   \n",
       "\n",
       "                                                                                                                                         lemmatized_descriptipon  \n",
       "0                                                                                          channel overlay debooke of mio against ntt germany need to be correct  \n",
       "1                                                                                                            error image pull back off issue for prod deployment  \n",
       "2                                                                                                                                 gate fail error for deployment  \n",
       "3  hi team please note that quote be in conversion fail status however there be no hold on so kindly provide we workaround and reply at the early regard imran s  \n",
       "4             aurora development service ad my system be down or something be break please help enter hostname bgl ad please enter a detailed problem descriptio  "
      ]
     },
     "execution_count": 11,
     "metadata": {},
     "output_type": "execute_result"
    }
   ],
   "source": [
    "df[\"lemmatized_descriptipon\"] =  df.progress_apply(lambda x: lemma_texts(x['cleansed_description']), axis=1)\n",
    "\n",
    "# View the dataframe\n",
    "df.head()"
   ]
  },
  {
   "cell_type": "code",
   "execution_count": 12,
   "metadata": {},
   "outputs": [],
   "source": [
    "df_clean=df[['uncleaned_description','lemmatized_descriptipon']]"
   ]
  },
  {
   "cell_type": "code",
   "execution_count": 13,
   "metadata": {
    "scrolled": true
   },
   "outputs": [
    {
     "data": {
      "text/html": [
       "<div>\n",
       "<style scoped>\n",
       "    .dataframe tbody tr th:only-of-type {\n",
       "        vertical-align: middle;\n",
       "    }\n",
       "\n",
       "    .dataframe tbody tr th {\n",
       "        vertical-align: top;\n",
       "    }\n",
       "\n",
       "    .dataframe thead th {\n",
       "        text-align: right;\n",
       "    }\n",
       "</style>\n",
       "<table border=\"1\" class=\"dataframe\">\n",
       "  <thead>\n",
       "    <tr style=\"text-align: right;\">\n",
       "      <th></th>\n",
       "      <th>uncleaned_description</th>\n",
       "      <th>lemmatized_descriptipon</th>\n",
       "    </tr>\n",
       "  </thead>\n",
       "  <tbody>\n",
       "    <tr>\n",
       "      <th>0</th>\n",
       "      <td>Channel Overlay Debooking of Mio against NTT Germany needs to be corrected</td>\n",
       "      <td>channel overlay debooke of mio against ntt germany need to be correct</td>\n",
       "    </tr>\n",
       "    <tr>\n",
       "      <th>1</th>\n",
       "      <td>Error Image Pull Back off Issue for Prod deployment</td>\n",
       "      <td>error image pull back off issue for prod deployment</td>\n",
       "    </tr>\n",
       "    <tr>\n",
       "      <th>2</th>\n",
       "      <td>Gate Failed error for deployment</td>\n",
       "      <td>gate fail error for deployment</td>\n",
       "    </tr>\n",
       "    <tr>\n",
       "      <th>3</th>\n",
       "      <td>Hi Team Please note that Quote is in conversion failed status However there is no hold on SO Kindly provide us workaround and reply at the earliest Regards Imran S</td>\n",
       "      <td>hi team please note that quote be in conversion fail status however there be no hold on so kindly provide we workaround and reply at the early regard imran s</td>\n",
       "    </tr>\n",
       "    <tr>\n",
       "      <th>4</th>\n",
       "      <td>Aurora Development Service ADS My system is down or something is broken Please help Enter Hostname bgl ads Please enter a detailed problem descriptio</td>\n",
       "      <td>aurora development service ad my system be down or something be break please help enter hostname bgl ad please enter a detailed problem descriptio</td>\n",
       "    </tr>\n",
       "  </tbody>\n",
       "</table>\n",
       "</div>"
      ],
      "text/plain": [
       "                                                                                                                                                 uncleaned_description  \\\n",
       "0                                                                                           Channel Overlay Debooking of Mio against NTT Germany needs to be corrected   \n",
       "1                                                                                                                  Error Image Pull Back off Issue for Prod deployment   \n",
       "2                                                                                                                                     Gate Failed error for deployment   \n",
       "3  Hi Team Please note that Quote is in conversion failed status However there is no hold on SO Kindly provide us workaround and reply at the earliest Regards Imran S   \n",
       "4                Aurora Development Service ADS My system is down or something is broken Please help Enter Hostname bgl ads Please enter a detailed problem descriptio   \n",
       "\n",
       "                                                                                                                                         lemmatized_descriptipon  \n",
       "0                                                                                          channel overlay debooke of mio against ntt germany need to be correct  \n",
       "1                                                                                                            error image pull back off issue for prod deployment  \n",
       "2                                                                                                                                 gate fail error for deployment  \n",
       "3  hi team please note that quote be in conversion fail status however there be no hold on so kindly provide we workaround and reply at the early regard imran s  \n",
       "4             aurora development service ad my system be down or something be break please help enter hostname bgl ad please enter a detailed problem descriptio  "
      ]
     },
     "execution_count": 13,
     "metadata": {},
     "output_type": "execute_result"
    }
   ],
   "source": [
    "df_clean.head()"
   ]
  },
  {
   "cell_type": "code",
   "execution_count": 14,
   "metadata": {},
   "outputs": [],
   "source": [
    "def singular_nouns(text):\n",
    "   \n",
    "    \n",
    "    # Creating a textblob object\n",
    "    text_blob = TextBlob(text)\n",
    "    \n",
    "    # extracting words with tags 'NN', joining them and return\n",
    "    return ' '.join([ word for (word,tag) in text_blob.tags if tag == \"NN\"])"
   ]
  },
  {
   "cell_type": "code",
   "execution_count": 15,
   "metadata": {},
   "outputs": [
    {
     "name": "stdout",
     "output_type": "stream",
     "text": [
      "[nltk_data] Downloading package brown to\n",
      "[nltk_data]     /home/sandrajacob/nltk_data...\n",
      "[nltk_data]   Package brown is already up-to-date!\n",
      "[nltk_data] Downloading package punkt to\n",
      "[nltk_data]     /home/sandrajacob/nltk_data...\n",
      "[nltk_data]   Package punkt is already up-to-date!\n",
      "[nltk_data] Downloading package wordnet to\n",
      "[nltk_data]     /home/sandrajacob/nltk_data...\n",
      "[nltk_data]   Package wordnet is already up-to-date!\n",
      "[nltk_data] Downloading package averaged_perceptron_tagger to\n",
      "[nltk_data]     /home/sandrajacob/nltk_data...\n",
      "[nltk_data]   Package averaged_perceptron_tagger is already up-to-\n",
      "[nltk_data]       date!\n",
      "[nltk_data] Downloading package conll2000 to\n",
      "[nltk_data]     /home/sandrajacob/nltk_data...\n",
      "[nltk_data]   Package conll2000 is already up-to-date!\n",
      "[nltk_data] Downloading package movie_reviews to\n",
      "[nltk_data]     /home/sandrajacob/nltk_data...\n",
      "[nltk_data]   Package movie_reviews is already up-to-date!\n",
      "Finished.\n"
     ]
    }
   ],
   "source": [
    "!python -m textblob.download_corpora"
   ]
  },
  {
   "cell_type": "code",
   "execution_count": 16,
   "metadata": {},
   "outputs": [
    {
     "name": "stderr",
     "output_type": "stream",
     "text": [
      "100%|███████████████████████████████████| 41899/41899 [00:30<00:00, 1371.07it/s]\n"
     ]
    },
    {
     "data": {
      "text/html": [
       "<div>\n",
       "<style scoped>\n",
       "    .dataframe tbody tr th:only-of-type {\n",
       "        vertical-align: middle;\n",
       "    }\n",
       "\n",
       "    .dataframe tbody tr th {\n",
       "        vertical-align: top;\n",
       "    }\n",
       "\n",
       "    .dataframe thead th {\n",
       "        text-align: right;\n",
       "    }\n",
       "</style>\n",
       "<table border=\"1\" class=\"dataframe\">\n",
       "  <thead>\n",
       "    <tr style=\"text-align: right;\">\n",
       "      <th></th>\n",
       "      <th>uncleaned_description</th>\n",
       "      <th>lemmatized_descriptipon</th>\n",
       "      <th>description_POS_removed</th>\n",
       "    </tr>\n",
       "  </thead>\n",
       "  <tbody>\n",
       "    <tr>\n",
       "      <th>0</th>\n",
       "      <td>Channel Overlay Debooking of Mio against NTT Germany needs to be corrected</td>\n",
       "      <td>channel overlay debooke of mio against ntt germany need to be correct</td>\n",
       "      <td>debooke mio need</td>\n",
       "    </tr>\n",
       "    <tr>\n",
       "      <th>1</th>\n",
       "      <td>Error Image Pull Back off Issue for Prod deployment</td>\n",
       "      <td>error image pull back off issue for prod deployment</td>\n",
       "      <td>error image issue deployment</td>\n",
       "    </tr>\n",
       "    <tr>\n",
       "      <th>2</th>\n",
       "      <td>Gate Failed error for deployment</td>\n",
       "      <td>gate fail error for deployment</td>\n",
       "      <td>gate fail error deployment</td>\n",
       "    </tr>\n",
       "    <tr>\n",
       "      <th>3</th>\n",
       "      <td>Hi Team Please note that Quote is in conversion failed status However there is no hold on SO Kindly provide us workaround and reply at the earliest Regards Imran S</td>\n",
       "      <td>hi team please note that quote be in conversion fail status however there be no hold on so kindly provide we workaround and reply at the early regard imran s</td>\n",
       "      <td>hi team please note quote conversion fail status hold regard imran s</td>\n",
       "    </tr>\n",
       "    <tr>\n",
       "      <th>4</th>\n",
       "      <td>Aurora Development Service ADS My system is down or something is broken Please help Enter Hostname bgl ads Please enter a detailed problem descriptio</td>\n",
       "      <td>aurora development service ad my system be down or something be break please help enter hostname bgl ad please enter a detailed problem descriptio</td>\n",
       "      <td>development service ad system something please help enter hostname bgl ad please problem descriptio</td>\n",
       "    </tr>\n",
       "  </tbody>\n",
       "</table>\n",
       "</div>"
      ],
      "text/plain": [
       "                                                                                                                                                 uncleaned_description  \\\n",
       "0                                                                                           Channel Overlay Debooking of Mio against NTT Germany needs to be corrected   \n",
       "1                                                                                                                  Error Image Pull Back off Issue for Prod deployment   \n",
       "2                                                                                                                                     Gate Failed error for deployment   \n",
       "3  Hi Team Please note that Quote is in conversion failed status However there is no hold on SO Kindly provide us workaround and reply at the earliest Regards Imran S   \n",
       "4                Aurora Development Service ADS My system is down or something is broken Please help Enter Hostname bgl ads Please enter a detailed problem descriptio   \n",
       "\n",
       "                                                                                                                                         lemmatized_descriptipon  \\\n",
       "0                                                                                          channel overlay debooke of mio against ntt germany need to be correct   \n",
       "1                                                                                                            error image pull back off issue for prod deployment   \n",
       "2                                                                                                                                 gate fail error for deployment   \n",
       "3  hi team please note that quote be in conversion fail status however there be no hold on so kindly provide we workaround and reply at the early regard imran s   \n",
       "4             aurora development service ad my system be down or something be break please help enter hostname bgl ad please enter a detailed problem descriptio   \n",
       "\n",
       "                                                                               description_POS_removed  \n",
       "0                                                                                     debooke mio need  \n",
       "1                                                                         error image issue deployment  \n",
       "2                                                                           gate fail error deployment  \n",
       "3                                 hi team please note quote conversion fail status hold regard imran s  \n",
       "4  development service ad system something please help enter hostname bgl ad please problem descriptio  "
      ]
     },
     "execution_count": 16,
     "metadata": {},
     "output_type": "execute_result"
    }
   ],
   "source": [
    "df_clean[\"description_POS_removed\"] =  df_clean.progress_apply(lambda x: singular_nouns(x['lemmatized_descriptipon']), axis=1)\n",
    "\n",
    "# View the dataframe\n",
    "df_clean.head()"
   ]
  },
  {
   "cell_type": "code",
   "execution_count": 17,
   "metadata": {},
   "outputs": [
    {
     "data": {
      "text/plain": [
       "[16, 28, 26, 68, 99, 4, 24, 25, 27, 22]"
      ]
     },
     "execution_count": 17,
     "metadata": {},
     "output_type": "execute_result"
    }
   ],
   "source": [
    "char_len=[len(x) for x in df_clean['description_POS_removed']]\n",
    "char_len[:10]"
   ]
  },
  {
   "cell_type": "code",
   "execution_count": 18,
   "metadata": {},
   "outputs": [
    {
     "data": {
      "text/plain": [
       "Text(0, 0.5, 'No. of Complaints')"
      ]
     },
     "execution_count": 18,
     "metadata": {},
     "output_type": "execute_result"
    },
    {
     "data": {
      "image/png": "[encoded data removed]",
      "text/plain": [
       "<Figure size 1000x600 with 1 Axes>"
      ]
     },
     "metadata": {},
     "output_type": "display_data"
    }
   ],
   "source": [
    "plt.figure(figsize=[10,6])\n",
    "sns.histplot(data = char_len,bins=50)\n",
    "plt.title('Distribution of Complaint Character Length', fontsize=25)\n",
    "plt.xlabel('Complaint Character Length',size=20)\n",
    "plt.ylabel('No. of Complaints',size=20)"
   ]
  },
  {
   "cell_type": "code",
   "execution_count": 19,
   "metadata": {},
   "outputs": [
    {
     "data": {
      "image/png": "[encoded data removed]",
      "text/plain": [
       "<Figure size 2000x1600 with 1 Axes>"
      ]
     },
     "metadata": {},
     "output_type": "display_data"
    }
   ],
   "source": [
    "stop_words = set(STOPWORDS)\n",
    "word_cloud = WordCloud(\n",
    "                          background_color='blue',\n",
    "                          stopwords=stop_words,\n",
    "                          max_font_size=38,\n",
    "                          max_words=38, \n",
    "                          random_state=42\n",
    "                         ).generate(str(df_clean['description_POS_removed']))\n",
    "\n",
    "fig = plt.figure(figsize=(20,16))\n",
    "plt.imshow(word_cloud)\n",
    "plt.axis('off')\n",
    "plt.show()"
   ]
  },
  {
   "cell_type": "code",
   "execution_count": 20,
   "metadata": {},
   "outputs": [],
   "source": [
    "#Write your code here to find the top 30 unigram frequency among the complaints in the cleaned datafram(df_clean). \n",
    "\n",
    "def get_top_unigram(text, n=30):\n",
    "\n",
    "    vector = CountVectorizer(stop_words='english').fit(text)\n",
    "    bag_of_words = vector.transform(text)\n",
    "    sum_of_words = bag_of_words.sum(axis=0) \n",
    "    word_freq = [(word, sum_of_words[0, idx]) for word, idx in vector.vocabulary_.items()]\n",
    "    word_freq =sorted(word_freq, key = lambda x: x[1], reverse=True)\n",
    "    return word_freq[:n]"
   ]
  },
  {
   "cell_type": "code",
   "execution_count": 21,
   "metadata": {},
   "outputs": [
    {
     "data": {
      "text/html": [
       "<div>\n",
       "<style scoped>\n",
       "    .dataframe tbody tr th:only-of-type {\n",
       "        vertical-align: middle;\n",
       "    }\n",
       "\n",
       "    .dataframe tbody tr th {\n",
       "        vertical-align: top;\n",
       "    }\n",
       "\n",
       "    .dataframe thead th {\n",
       "        text-align: right;\n",
       "    }\n",
       "</style>\n",
       "<table border=\"1\" class=\"dataframe\">\n",
       "  <thead>\n",
       "    <tr style=\"text-align: right;\">\n",
       "      <th></th>\n",
       "      <th>unigram</th>\n",
       "      <th>count</th>\n",
       "    </tr>\n",
       "  </thead>\n",
       "  <tbody>\n",
       "    <tr>\n",
       "      <th>0</th>\n",
       "      <td>access</td>\n",
       "      <td>8177</td>\n",
       "    </tr>\n",
       "    <tr>\n",
       "      <th>1</th>\n",
       "      <td>team</td>\n",
       "      <td>4893</td>\n",
       "    </tr>\n",
       "    <tr>\n",
       "      <th>2</th>\n",
       "      <td>order</td>\n",
       "      <td>4181</td>\n",
       "    </tr>\n",
       "    <tr>\n",
       "      <th>3</th>\n",
       "      <td>issue</td>\n",
       "      <td>3972</td>\n",
       "    </tr>\n",
       "    <tr>\n",
       "      <th>4</th>\n",
       "      <td>fastpath</td>\n",
       "      <td>3312</td>\n",
       "    </tr>\n",
       "    <tr>\n",
       "      <th>5</th>\n",
       "      <td>hi</td>\n",
       "      <td>2476</td>\n",
       "    </tr>\n",
       "    <tr>\n",
       "      <th>6</th>\n",
       "      <td>sfdc</td>\n",
       "      <td>2233</td>\n",
       "    </tr>\n",
       "    <tr>\n",
       "      <th>7</th>\n",
       "      <td>error</td>\n",
       "      <td>2101</td>\n",
       "    </tr>\n",
       "    <tr>\n",
       "      <th>8</th>\n",
       "      <td>request</td>\n",
       "      <td>2069</td>\n",
       "    </tr>\n",
       "    <tr>\n",
       "      <th>9</th>\n",
       "      <td>status</td>\n",
       "      <td>2014</td>\n",
       "    </tr>\n",
       "  </tbody>\n",
       "</table>\n",
       "</div>"
      ],
      "text/plain": [
       "    unigram  count\n",
       "0    access   8177\n",
       "1      team   4893\n",
       "2     order   4181\n",
       "3     issue   3972\n",
       "4  fastpath   3312\n",
       "5        hi   2476\n",
       "6      sfdc   2233\n",
       "7     error   2101\n",
       "8   request   2069\n",
       "9    status   2014"
      ]
     },
     "execution_count": 21,
     "metadata": {},
     "output_type": "execute_result"
    }
   ],
   "source": [
    "top_common_words = get_top_unigram(df_clean['description_POS_removed'].values.astype('U'))\n",
    "df_unigram = pd.DataFrame(top_common_words, columns = ['unigram' , 'count'])\n",
    "df_unigram.head(10)"
   ]
  },
  {
   "cell_type": "code",
   "execution_count": 22,
   "metadata": {},
   "outputs": [
    {
     "data": {
      "image/png": "[encoded data removed]",
      "text/plain": [
       "<Figure size 1500x600 with 1 Axes>"
      ]
     },
     "metadata": {},
     "output_type": "display_data"
    }
   ],
   "source": [
    "# Plot the top 30 unigrams\n",
    "plt.figure(figsize=(15,6))\n",
    "sns.barplot(x='unigram', y='count', data=df_unigram, palette=\"Blues_d\")\n",
    "plt.xticks(rotation=90)\n",
    "plt.title(\"Top 30 unigrams in the Complaint text after removing stop words and lemmatization\", fontsize=20)\n",
    "plt.show()"
   ]
  },
  {
   "cell_type": "code",
   "execution_count": 23,
   "metadata": {},
   "outputs": [],
   "source": [
    "#Write your code here to find the top 30 bigram frequency among the complaints in the cleaned datafram(df_clean). \n",
    "def get_top_bigram(text, n=30):\n",
    "\n",
    "    vector = CountVectorizer(ngram_range=(2, 2), stop_words='english').fit(text)\n",
    "    bag_of_words = vector.transform(text)\n",
    "    sum_of_words = bag_of_words.sum(axis=0) \n",
    "    word_freq = [(word, sum_of_words[0, idx]) for word, idx in vector.vocabulary_.items()]\n",
    "    word_freq =sorted(word_freq, key = lambda x: x[1], reverse=True)\n",
    "    return word_freq[:n]"
   ]
  },
  {
   "cell_type": "code",
   "execution_count": 24,
   "metadata": {},
   "outputs": [
    {
     "data": {
      "text/html": [
       "<div>\n",
       "<style scoped>\n",
       "    .dataframe tbody tr th:only-of-type {\n",
       "        vertical-align: middle;\n",
       "    }\n",
       "\n",
       "    .dataframe tbody tr th {\n",
       "        vertical-align: top;\n",
       "    }\n",
       "\n",
       "    .dataframe thead th {\n",
       "        text-align: right;\n",
       "    }\n",
       "</style>\n",
       "<table border=\"1\" class=\"dataframe\">\n",
       "  <thead>\n",
       "    <tr style=\"text-align: right;\">\n",
       "      <th></th>\n",
       "      <th>bigram</th>\n",
       "      <th>count</th>\n",
       "    </tr>\n",
       "  </thead>\n",
       "  <tbody>\n",
       "    <tr>\n",
       "      <th>0</th>\n",
       "      <td>hi team</td>\n",
       "      <td>2274</td>\n",
       "    </tr>\n",
       "    <tr>\n",
       "      <th>1</th>\n",
       "      <td>fastpath fastpath</td>\n",
       "      <td>1646</td>\n",
       "    </tr>\n",
       "    <tr>\n",
       "      <th>2</th>\n",
       "      <td>sfdc access</td>\n",
       "      <td>1134</td>\n",
       "    </tr>\n",
       "    <tr>\n",
       "      <th>3</th>\n",
       "      <td>hello team</td>\n",
       "      <td>994</td>\n",
       "    </tr>\n",
       "    <tr>\n",
       "      <th>4</th>\n",
       "      <td>help enter</td>\n",
       "      <td>938</td>\n",
       "    </tr>\n",
       "    <tr>\n",
       "      <th>5</th>\n",
       "      <td>cisco com</td>\n",
       "      <td>864</td>\n",
       "    </tr>\n",
       "    <tr>\n",
       "      <th>6</th>\n",
       "      <td>enter hostname</td>\n",
       "      <td>749</td>\n",
       "    </tr>\n",
       "    <tr>\n",
       "      <th>7</th>\n",
       "      <td>need access</td>\n",
       "      <td>650</td>\n",
       "    </tr>\n",
       "    <tr>\n",
       "      <th>8</th>\n",
       "      <td>team note</td>\n",
       "      <td>538</td>\n",
       "    </tr>\n",
       "    <tr>\n",
       "      <th>9</th>\n",
       "      <td>application issue</td>\n",
       "      <td>523</td>\n",
       "    </tr>\n",
       "  </tbody>\n",
       "</table>\n",
       "</div>"
      ],
      "text/plain": [
       "              bigram  count\n",
       "0            hi team   2274\n",
       "1  fastpath fastpath   1646\n",
       "2        sfdc access   1134\n",
       "3         hello team    994\n",
       "4         help enter    938\n",
       "5          cisco com    864\n",
       "6     enter hostname    749\n",
       "7        need access    650\n",
       "8          team note    538\n",
       "9  application issue    523"
      ]
     },
     "execution_count": 24,
     "metadata": {},
     "output_type": "execute_result"
    }
   ],
   "source": [
    "#Print the top 10 words in the bigram frequency\n",
    "top_common_words = get_top_bigram(df_clean['description_POS_removed'].values.astype('U'))\n",
    "df_bigram = pd.DataFrame(top_common_words, columns = ['bigram' , 'count'])\n",
    "df_bigram.head(10)"
   ]
  },
  {
   "cell_type": "code",
   "execution_count": 25,
   "metadata": {},
   "outputs": [
    {
     "data": {
      "image/png": "[encoded data removed]",
      "text/plain": [
       "<Figure size 1500x600 with 1 Axes>"
      ]
     },
     "metadata": {},
     "output_type": "display_data"
    }
   ],
   "source": [
    "# Plot the top 30 unigrams\n",
    "plt.figure(figsize=(15,6))\n",
    "sns.barplot(x='bigram', y='count', data=df_bigram, palette=\"Blues_d\")\n",
    "plt.xticks(rotation=90)\n",
    "plt.title(\"Top 30 bigrams in the Complaint text after removing stop words and lemmatization\", fontsize=20)\n",
    "plt.show()"
   ]
  },
  {
   "cell_type": "code",
   "execution_count": 26,
   "metadata": {},
   "outputs": [],
   "source": [
    "#Write your code here to find the top 30 trigram frequency among the complaints in the cleaned datafram(df_clean). \n",
    "def get_top_trigram(text, n=30):\n",
    "\n",
    "    vector = CountVectorizer(ngram_range=(3, 3), stop_words='english').fit(text)\n",
    "    bag_of_words = vector.transform(text)\n",
    "    sum_of_words = bag_of_words.sum(axis=0) \n",
    "    word_freq = [(word, sum_of_words[0, idx]) for word, idx in vector.vocabulary_.items()]\n",
    "    word_freq =sorted(word_freq, key = lambda x: x[1], reverse=True)\n",
    "    return word_freq[:n]"
   ]
  },
  {
   "cell_type": "code",
   "execution_count": 27,
   "metadata": {},
   "outputs": [
    {
     "data": {
      "text/html": [
       "<div>\n",
       "<style scoped>\n",
       "    .dataframe tbody tr th:only-of-type {\n",
       "        vertical-align: middle;\n",
       "    }\n",
       "\n",
       "    .dataframe tbody tr th {\n",
       "        vertical-align: top;\n",
       "    }\n",
       "\n",
       "    .dataframe thead th {\n",
       "        text-align: right;\n",
       "    }\n",
       "</style>\n",
       "<table border=\"1\" class=\"dataframe\">\n",
       "  <thead>\n",
       "    <tr style=\"text-align: right;\">\n",
       "      <th></th>\n",
       "      <th>trigram</th>\n",
       "      <th>count</th>\n",
       "    </tr>\n",
       "  </thead>\n",
       "  <tbody>\n",
       "    <tr>\n",
       "      <th>0</th>\n",
       "      <td>help enter hostname</td>\n",
       "      <td>737</td>\n",
       "    </tr>\n",
       "    <tr>\n",
       "      <th>1</th>\n",
       "      <td>hi team note</td>\n",
       "      <td>527</td>\n",
       "    </tr>\n",
       "    <tr>\n",
       "      <th>2</th>\n",
       "      <td>fastpath fastpath pr</td>\n",
       "      <td>511</td>\n",
       "    </tr>\n",
       "    <tr>\n",
       "      <th>3</th>\n",
       "      <td>fastpath pr count</td>\n",
       "      <td>511</td>\n",
       "    </tr>\n",
       "    <tr>\n",
       "      <th>4</th>\n",
       "      <td>development service ad</td>\n",
       "      <td>499</td>\n",
       "    </tr>\n",
       "    <tr>\n",
       "      <th>5</th>\n",
       "      <td>service ad help</td>\n",
       "      <td>492</td>\n",
       "    </tr>\n",
       "    <tr>\n",
       "      <th>6</th>\n",
       "      <td>ad help enter</td>\n",
       "      <td>490</td>\n",
       "    </tr>\n",
       "    <tr>\n",
       "      <th>7</th>\n",
       "      <td>application issue project</td>\n",
       "      <td>432</td>\n",
       "    </tr>\n",
       "    <tr>\n",
       "      <th>8</th>\n",
       "      <td>ad problem descripti</td>\n",
       "      <td>344</td>\n",
       "    </tr>\n",
       "    <tr>\n",
       "      <th>9</th>\n",
       "      <td>team note quote</td>\n",
       "      <td>311</td>\n",
       "    </tr>\n",
       "  </tbody>\n",
       "</table>\n",
       "</div>"
      ],
      "text/plain": [
       "                     trigram  count\n",
       "0        help enter hostname    737\n",
       "1               hi team note    527\n",
       "2       fastpath fastpath pr    511\n",
       "3          fastpath pr count    511\n",
       "4     development service ad    499\n",
       "5            service ad help    492\n",
       "6              ad help enter    490\n",
       "7  application issue project    432\n",
       "8       ad problem descripti    344\n",
       "9            team note quote    311"
      ]
     },
     "execution_count": 27,
     "metadata": {},
     "output_type": "execute_result"
    }
   ],
   "source": [
    "#Print the top 10 words in the trigram frequency\n",
    "top_common_words = get_top_trigram(df_clean['description_POS_removed'].values.astype('U'))\n",
    "df_trigram = pd.DataFrame(top_common_words, columns = ['trigram' , 'count'])\n",
    "df_trigram.head(10)"
   ]
  },
  {
   "cell_type": "code",
   "execution_count": 28,
   "metadata": {},
   "outputs": [
    {
     "data": {
      "image/png": "[encoded data removed]",
      "text/plain": [
       "<Figure size 1500x600 with 1 Axes>"
      ]
     },
     "metadata": {},
     "output_type": "display_data"
    }
   ],
   "source": [
    "# Plot the top 30 unigrams\n",
    "plt.figure(figsize=(15,6))\n",
    "sns.barplot(x='trigram', y='count', data=df_trigram, palette=\"Blues_d\")\n",
    "plt.xticks(rotation=90)\n",
    "plt.title(\"Top 30 trigrams in the Complaint text after removing stop words and lemmatization\", fontsize=20)\n",
    "plt.show()"
   ]
  },
  {
   "cell_type": "code",
   "execution_count": 29,
   "metadata": {},
   "outputs": [],
   "source": [
    "df_cleaner=df_clean.copy()"
   ]
  },
  {
   "cell_type": "code",
   "execution_count": 30,
   "metadata": {},
   "outputs": [],
   "source": [
    "df_cleaner=df_clean.copy()"
   ]
  },
  {
   "cell_type": "code",
   "execution_count": 36,
   "metadata": {},
   "outputs": [],
   "source": [
    "#Write your code here to initialise the TfidfVectorizer \n",
    "\n",
    "tfidf=TfidfVectorizer(max_df=0.95,min_df=2,stop_words='english', ngram_range=(1,3), max_features=10000)"
   ]
  },
  {
   "cell_type": "code",
   "execution_count": 37,
   "metadata": {},
   "outputs": [],
   "source": [
    "#Write your code here to create the Document Term Matrix by transforming the complaints column present in df_clean.\n",
    "dtm=tfidf.fit_transform(df_clean['description_POS_removed'])"
   ]
  },
  {
   "cell_type": "code",
   "execution_count": 38,
   "metadata": {},
   "outputs": [
    {
     "data": {
      "text/plain": [
       "(41899, 10000)"
      ]
     },
     "execution_count": 38,
     "metadata": {},
     "output_type": "execute_result"
    }
   ],
   "source": [
    "dtm.shape"
   ]
  },
  {
   "cell_type": "code",
   "execution_count": 46,
   "metadata": {},
   "outputs": [],
   "source": [
    "from sklearn.cluster import KMeans\n",
    "from sklearn import metrics\n",
    "from scipy.spatial.distance import cdist\n",
    "import time"
   ]
  },
  {
   "cell_type": "code",
   "execution_count": 47,
   "metadata": {},
   "outputs": [
    {
     "name": "stderr",
     "output_type": "stream",
     "text": [
      "  1%|▍                                           | 1/99 [00:00<00:28,  3.39it/s]"
     ]
    },
    {
     "name": "stdout",
     "output_type": "stream",
     "text": [
      "1661413883.281678\n"
     ]
    },
    {
     "name": "stderr",
     "output_type": "stream",
     "text": [
      "\r",
      "  2%|▉                                           | 2/99 [00:33<31:26, 19.45s/it]"
     ]
    },
    {
     "name": "stdout",
     "output_type": "stream",
     "text": [
      "1661413915.5349011\n",
      "1661413916.1850102\n"
     ]
    },
    {
     "name": "stderr",
     "output_type": "stream",
     "text": [
      "\r",
      "  3%|█▎                                          | 3/99 [01:04<40:09, 25.10s/it]"
     ]
    },
    {
     "name": "stdout",
     "output_type": "stream",
     "text": [
      "1661413947.3552582\n",
      "1661413948.0607567\n"
     ]
    },
    {
     "name": "stderr",
     "output_type": "stream",
     "text": [
      "\r",
      "  4%|█▊                                          | 4/99 [01:37<44:22, 28.02s/it]"
     ]
    },
    {
     "name": "stdout",
     "output_type": "stream",
     "text": [
      "1661413979.8558762\n",
      "1661413980.724593\n"
     ]
    },
    {
     "name": "stderr",
     "output_type": "stream",
     "text": [
      "\r",
      "  5%|██▏                                         | 5/99 [02:09<46:16, 29.54s/it]"
     ]
    },
    {
     "name": "stdout",
     "output_type": "stream",
     "text": [
      "1661414012.0901191\n",
      "1661414013.032788\n"
     ]
    },
    {
     "name": "stderr",
     "output_type": "stream",
     "text": [
      "\r",
      "  6%|██▋                                         | 6/99 [02:42<47:29, 30.64s/it]"
     ]
    },
    {
     "name": "stdout",
     "output_type": "stream",
     "text": [
      "1661414044.864838\n",
      "1661414045.9958098\n"
     ]
    },
    {
     "name": "stderr",
     "output_type": "stream",
     "text": [
      "\r",
      "  7%|███                                         | 7/99 [03:14<47:35, 31.04s/it]"
     ]
    },
    {
     "name": "stdout",
     "output_type": "stream",
     "text": [
      "1661414076.717459\n",
      "1661414077.9684644\n"
     ]
    },
    {
     "name": "stderr",
     "output_type": "stream",
     "text": [
      "\r",
      "  8%|███▌                                        | 8/99 [03:46<47:46, 31.50s/it]"
     ]
    },
    {
     "name": "stdout",
     "output_type": "stream",
     "text": [
      "1661414109.2202172\n",
      "1661414110.7441914\n"
     ]
    },
    {
     "name": "stderr",
     "output_type": "stream",
     "text": [
      "\r",
      "  9%|████                                        | 9/99 [04:20<48:20, 32.22s/it]"
     ]
    },
    {
     "name": "stdout",
     "output_type": "stream",
     "text": [
      "1661414143.0279531\n",
      "1661414144.7575033\n"
     ]
    },
    {
     "name": "stderr",
     "output_type": "stream",
     "text": [
      "\r",
      " 10%|████▎                                      | 10/99 [04:54<48:30, 32.70s/it]"
     ]
    },
    {
     "name": "stdout",
     "output_type": "stream",
     "text": [
      "1661414176.8031585\n",
      "1661414179.0703502\n"
     ]
    },
    {
     "name": "stderr",
     "output_type": "stream",
     "text": [
      "\r",
      " 11%|████▊                                      | 11/99 [05:25<47:15, 32.23s/it]"
     ]
    },
    {
     "name": "stdout",
     "output_type": "stream",
     "text": [
      "1661414207.9479973\n",
      "1661414209.8258424\n"
     ]
    },
    {
     "name": "stderr",
     "output_type": "stream",
     "text": [
      "\r",
      " 12%|█████▏                                     | 12/99 [05:59<47:33, 32.80s/it]"
     ]
    },
    {
     "name": "stdout",
     "output_type": "stream",
     "text": [
      "1661414242.0703511\n",
      "1661414244.3549266\n"
     ]
    },
    {
     "name": "stderr",
     "output_type": "stream",
     "text": [
      "\r",
      " 13%|█████▋                                     | 13/99 [06:32<47:04, 32.85s/it]"
     ]
    },
    {
     "name": "stdout",
     "output_type": "stream",
     "text": [
      "1661414275.017457\n",
      "1661414277.2435148\n"
     ]
    },
    {
     "name": "stderr",
     "output_type": "stream",
     "text": [
      "\r",
      " 14%|██████                                     | 14/99 [07:06<46:59, 33.17s/it]"
     ]
    },
    {
     "name": "stdout",
     "output_type": "stream",
     "text": [
      "1661414308.950696\n",
      "1661414311.4928935\n"
     ]
    },
    {
     "name": "stderr",
     "output_type": "stream",
     "text": [
      "\r",
      " 15%|██████▌                                    | 15/99 [07:36<45:08, 32.25s/it]"
     ]
    },
    {
     "name": "stdout",
     "output_type": "stream",
     "text": [
      "1661414339.0564222\n",
      "1661414341.5185485\n"
     ]
    },
    {
     "name": "stderr",
     "output_type": "stream",
     "text": [
      "\r",
      " 16%|██████▉                                    | 16/99 [08:08<44:38, 32.27s/it]"
     ]
    },
    {
     "name": "stdout",
     "output_type": "stream",
     "text": [
      "1661414371.365173\n",
      "1661414374.1748984\n"
     ]
    },
    {
     "name": "stderr",
     "output_type": "stream",
     "text": [
      "\r",
      " 17%|███████▍                                   | 17/99 [08:40<43:39, 31.94s/it]"
     ]
    },
    {
     "name": "stdout",
     "output_type": "stream",
     "text": [
      "1661414402.546432\n",
      "1661414405.0547504\n"
     ]
    },
    {
     "name": "stderr",
     "output_type": "stream",
     "text": [
      "\r",
      " 18%|███████▊                                   | 18/99 [09:15<44:33, 33.01s/it]"
     ]
    },
    {
     "name": "stdout",
     "output_type": "stream",
     "text": [
      "1661414438.0498853\n",
      "1661414440.937398\n"
     ]
    },
    {
     "name": "stderr",
     "output_type": "stream",
     "text": [
      "\r",
      " 19%|████████▎                                  | 19/99 [09:46<43:07, 32.35s/it]"
     ]
    },
    {
     "name": "stdout",
     "output_type": "stream",
     "text": [
      "1661414468.8434296\n",
      "1661414471.926185\n"
     ]
    },
    {
     "name": "stderr",
     "output_type": "stream",
     "text": [
      "\r",
      " 20%|████████▋                                  | 20/99 [10:21<43:38, 33.14s/it]"
     ]
    },
    {
     "name": "stdout",
     "output_type": "stream",
     "text": [
      "1661414503.842044\n",
      "1661414508.040093\n"
     ]
    },
    {
     "name": "stderr",
     "output_type": "stream",
     "text": [
      "\r",
      " 21%|█████████                                  | 21/99 [10:54<43:00, 33.08s/it]"
     ]
    },
    {
     "name": "stdout",
     "output_type": "stream",
     "text": [
      "1661414536.7898512\n",
      "1661414540.8736017\n"
     ]
    },
    {
     "name": "stderr",
     "output_type": "stream",
     "text": [
      "\r",
      " 22%|█████████▌                                 | 22/99 [11:28<42:50, 33.38s/it]"
     ]
    },
    {
     "name": "stdout",
     "output_type": "stream",
     "text": [
      "1661414570.8695745\n",
      "1661414574.3404698\n"
     ]
    },
    {
     "name": "stderr",
     "output_type": "stream",
     "text": [
      "\r",
      " 23%|█████████▉                                 | 23/99 [12:00<41:55, 33.10s/it]"
     ]
    },
    {
     "name": "stdout",
     "output_type": "stream",
     "text": [
      "1661414603.311581\n",
      "1661414606.707753\n"
     ]
    },
    {
     "name": "stderr",
     "output_type": "stream",
     "text": [
      "\r",
      " 24%|██████████▍                                | 24/99 [12:31<40:28, 32.38s/it]"
     ]
    },
    {
     "name": "stdout",
     "output_type": "stream",
     "text": [
      "1661414634.02274\n",
      "1661414638.5101519\n"
     ]
    },
    {
     "name": "stderr",
     "output_type": "stream",
     "text": [
      "\r",
      " 25%|██████████▊                                | 25/99 [13:04<39:58, 32.41s/it]"
     ]
    },
    {
     "name": "stdout",
     "output_type": "stream",
     "text": [
      "1661414666.4841652\n",
      "1661414670.1406088\n"
     ]
    },
    {
     "name": "stderr",
     "output_type": "stream",
     "text": [
      "\r",
      " 26%|███████████▎                               | 26/99 [13:39<40:27, 33.25s/it]"
     ]
    },
    {
     "name": "stdout",
     "output_type": "stream",
     "text": [
      "1661414701.710973\n",
      "1661414706.659716\n"
     ]
    },
    {
     "name": "stderr",
     "output_type": "stream",
     "text": [
      "\r",
      " 27%|███████████▋                               | 27/99 [14:13<40:10, 33.48s/it]"
     ]
    },
    {
     "name": "stdout",
     "output_type": "stream",
     "text": [
      "1661414735.7059586\n",
      "1661414740.5187173\n"
     ]
    },
    {
     "name": "stderr",
     "output_type": "stream",
     "text": [
      "\r",
      " 28%|████████████▏                              | 28/99 [14:48<40:04, 33.87s/it]"
     ]
    },
    {
     "name": "stdout",
     "output_type": "stream",
     "text": [
      "1661414770.4862328\n",
      "1661414775.078629\n"
     ]
    },
    {
     "name": "stderr",
     "output_type": "stream",
     "text": [
      "\r",
      " 29%|████████████▌                              | 29/99 [15:24<40:29, 34.71s/it]"
     ]
    },
    {
     "name": "stdout",
     "output_type": "stream",
     "text": [
      "1661414807.1549094\n",
      "1661414812.3189092\n"
     ]
    },
    {
     "name": "stderr",
     "output_type": "stream",
     "text": [
      "\r",
      " 30%|█████████████                              | 30/99 [15:57<39:09, 34.06s/it]"
     ]
    },
    {
     "name": "stdout",
     "output_type": "stream",
     "text": [
      "1661414839.6917198\n",
      "1661414844.852042\n"
     ]
    },
    {
     "name": "stderr",
     "output_type": "stream",
     "text": [
      "\r",
      " 31%|█████████████▍                             | 31/99 [16:30<38:09, 33.67s/it]"
     ]
    },
    {
     "name": "stdout",
     "output_type": "stream",
     "text": [
      "1661414872.4657652\n",
      "1661414877.3821306\n"
     ]
    },
    {
     "name": "stderr",
     "output_type": "stream",
     "text": [
      "\r",
      " 32%|█████████████▉                             | 32/99 [17:03<37:30, 33.58s/it]"
     ]
    },
    {
     "name": "stdout",
     "output_type": "stream",
     "text": [
      "1661414905.8450212\n",
      "1661414911.521308\n"
     ]
    },
    {
     "name": "stderr",
     "output_type": "stream",
     "text": [
      "\r",
      " 33%|██████████████▎                            | 33/99 [17:41<38:23, 34.91s/it]"
     ]
    },
    {
     "name": "stdout",
     "output_type": "stream",
     "text": [
      "1661414943.8397493\n",
      "1661414949.1929314\n"
     ]
    },
    {
     "name": "stderr",
     "output_type": "stream",
     "text": [
      "\r",
      " 34%|██████████████▊                            | 34/99 [18:16<37:57, 35.04s/it]"
     ]
    },
    {
     "name": "stdout",
     "output_type": "stream",
     "text": [
      "1661414979.1875896\n",
      "1661414985.9329333\n"
     ]
    },
    {
     "name": "stderr",
     "output_type": "stream",
     "text": [
      "\r",
      " 35%|███████████████▏                           | 35/99 [18:54<38:21, 35.96s/it]"
     ]
    },
    {
     "name": "stdout",
     "output_type": "stream",
     "text": [
      "1661415017.2885423\n",
      "1661415022.652073\n"
     ]
    },
    {
     "name": "stderr",
     "output_type": "stream",
     "text": [
      "\r",
      " 36%|███████████████▋                           | 36/99 [19:28<37:01, 35.26s/it]"
     ]
    },
    {
     "name": "stdout",
     "output_type": "stream",
     "text": [
      "1661415050.9052467\n",
      "1661415056.6139503\n"
     ]
    },
    {
     "name": "stderr",
     "output_type": "stream",
     "text": [
      "\r",
      " 37%|████████████████                           | 37/99 [20:02<36:01, 34.86s/it]"
     ]
    },
    {
     "name": "stdout",
     "output_type": "stream",
     "text": [
      "1661415084.8580427\n",
      "1661415090.201304\n"
     ]
    },
    {
     "name": "stderr",
     "output_type": "stream",
     "text": [
      "\r",
      " 38%|████████████████▌                          | 38/99 [20:37<35:23, 34.80s/it]"
     ]
    },
    {
     "name": "stdout",
     "output_type": "stream",
     "text": [
      "1661415119.5203667\n",
      "1661415126.0061946\n"
     ]
    },
    {
     "name": "stderr",
     "output_type": "stream",
     "text": [
      "\r",
      " 39%|████████████████▉                          | 39/99 [21:13<35:12, 35.20s/it]"
     ]
    },
    {
     "name": "stdout",
     "output_type": "stream",
     "text": [
      "1661415155.6604886\n",
      "1661415162.0329034\n"
     ]
    },
    {
     "name": "stderr",
     "output_type": "stream",
     "text": [
      "\r",
      " 40%|█████████████████▎                         | 40/99 [21:46<34:10, 34.75s/it]"
     ]
    },
    {
     "name": "stdout",
     "output_type": "stream",
     "text": [
      "1661415189.3466437\n",
      "1661415195.9982018\n"
     ]
    },
    {
     "name": "stderr",
     "output_type": "stream",
     "text": [
      "\r",
      " 41%|█████████████████▊                         | 41/99 [22:24<34:19, 35.50s/it]"
     ]
    },
    {
     "name": "stdout",
     "output_type": "stream",
     "text": [
      "1661415226.601251\n",
      "1661415233.6908197\n"
     ]
    },
    {
     "name": "stderr",
     "output_type": "stream",
     "text": [
      "\r",
      " 42%|██████████████████▏                        | 42/99 [22:58<33:18, 35.06s/it]"
     ]
    },
    {
     "name": "stdout",
     "output_type": "stream",
     "text": [
      "1661415260.630133\n",
      "1661415267.5089295\n"
     ]
    },
    {
     "name": "stderr",
     "output_type": "stream",
     "text": [
      "\r",
      " 43%|██████████████████▋                        | 43/99 [23:33<32:42, 35.04s/it]"
     ]
    },
    {
     "name": "stdout",
     "output_type": "stream",
     "text": [
      "1661415295.6173491\n",
      "1661415302.2332623\n"
     ]
    },
    {
     "name": "stderr",
     "output_type": "stream",
     "text": [
      "\r",
      " 44%|███████████████████                        | 44/99 [24:08<32:13, 35.15s/it]"
     ]
    },
    {
     "name": "stdout",
     "output_type": "stream",
     "text": [
      "1661415331.0254264\n",
      "1661415338.063748\n"
     ]
    },
    {
     "name": "stderr",
     "output_type": "stream",
     "text": [
      "\r",
      " 45%|███████████████████▌                       | 45/99 [24:47<32:33, 36.18s/it]"
     ]
    },
    {
     "name": "stdout",
     "output_type": "stream",
     "text": [
      "1661415369.5957093\n",
      "1661415377.0688298\n"
     ]
    },
    {
     "name": "stderr",
     "output_type": "stream",
     "text": [
      "\r",
      " 46%|███████████████████▉                       | 46/99 [25:24<32:17, 36.55s/it]"
     ]
    },
    {
     "name": "stdout",
     "output_type": "stream",
     "text": [
      "1661415407.0341475\n",
      "1661415414.0847352\n"
     ]
    },
    {
     "name": "stderr",
     "output_type": "stream",
     "text": [
      "\r",
      " 47%|████████████████████▍                      | 47/99 [26:00<31:26, 36.28s/it]"
     ]
    },
    {
     "name": "stdout",
     "output_type": "stream",
     "text": [
      "1661415442.6731987\n",
      "1661415450.1201293\n"
     ]
    },
    {
     "name": "stderr",
     "output_type": "stream",
     "text": [
      "\r",
      " 48%|████████████████████▊                      | 48/99 [26:38<31:23, 36.93s/it]"
     ]
    },
    {
     "name": "stdout",
     "output_type": "stream",
     "text": [
      "1661415481.1111727\n",
      "1661415487.710559\n"
     ]
    },
    {
     "name": "stderr",
     "output_type": "stream",
     "text": [
      "\r",
      " 49%|█████████████████████▎                     | 49/99 [27:12<29:59, 35.98s/it]"
     ]
    },
    {
     "name": "stdout",
     "output_type": "stream",
     "text": [
      "1661415514.8876245\n",
      "1661415522.014857\n"
     ]
    },
    {
     "name": "stderr",
     "output_type": "stream",
     "text": [
      "\r",
      " 51%|█████████████████████▋                     | 50/99 [27:50<29:47, 36.48s/it]"
     ]
    },
    {
     "name": "stdout",
     "output_type": "stream",
     "text": [
      "1661415552.5203838\n",
      "1661415561.1191552\n"
     ]
    },
    {
     "name": "stderr",
     "output_type": "stream",
     "text": [
      "\r",
      " 52%|██████████████████████▏                    | 51/99 [28:30<30:02, 37.54s/it]"
     ]
    },
    {
     "name": "stdout",
     "output_type": "stream",
     "text": [
      "1661415592.5567255\n",
      "1661415600.8429139\n"
     ]
    },
    {
     "name": "stderr",
     "output_type": "stream",
     "text": [
      "\r",
      " 53%|██████████████████████▌                    | 52/99 [29:05<28:51, 36.83s/it]"
     ]
    },
    {
     "name": "stdout",
     "output_type": "stream",
     "text": [
      "1661415627.732068\n",
      "1661415636.173803\n"
     ]
    },
    {
     "name": "stderr",
     "output_type": "stream",
     "text": [
      "\r",
      " 54%|███████████████████████                    | 53/99 [29:44<28:52, 37.65s/it]"
     ]
    },
    {
     "name": "stdout",
     "output_type": "stream",
     "text": [
      "1661415667.3014078\n",
      "1661415675.3140838\n"
     ]
    },
    {
     "name": "stderr",
     "output_type": "stream",
     "text": [
      "\r",
      " 55%|███████████████████████▍                   | 54/99 [30:21<27:57, 37.27s/it]"
     ]
    },
    {
     "name": "stdout",
     "output_type": "stream",
     "text": [
      "1661415703.6870315\n",
      "1661415711.681068\n"
     ]
    },
    {
     "name": "stderr",
     "output_type": "stream",
     "text": [
      "\r",
      " 56%|███████████████████████▉                   | 55/99 [30:58<27:13, 37.13s/it]"
     ]
    },
    {
     "name": "stdout",
     "output_type": "stream",
     "text": [
      "1661415740.4939466\n",
      "1661415749.7245245\n"
     ]
    },
    {
     "name": "stderr",
     "output_type": "stream",
     "text": [
      "\r",
      " 57%|████████████████████████▎                  | 56/99 [31:36<26:49, 37.44s/it]"
     ]
    },
    {
     "name": "stdout",
     "output_type": "stream",
     "text": [
      "1661415778.6432185\n",
      "1661415788.8893254\n"
     ]
    },
    {
     "name": "stderr",
     "output_type": "stream",
     "text": [
      "\r",
      " 58%|████████████████████████▊                  | 57/99 [32:14<26:22, 37.67s/it]"
     ]
    },
    {
     "name": "stdout",
     "output_type": "stream",
     "text": [
      "1661415816.8425577\n",
      "1661415826.268349\n"
     ]
    },
    {
     "name": "stderr",
     "output_type": "stream",
     "text": [
      "\r",
      " 59%|█████████████████████████▏                 | 58/99 [32:53<26:03, 38.13s/it]"
     ]
    },
    {
     "name": "stdout",
     "output_type": "stream",
     "text": [
      "1661415856.0443919\n",
      "1661415865.0659091\n"
     ]
    },
    {
     "name": "stderr",
     "output_type": "stream",
     "text": [
      "\r",
      " 60%|█████████████████████████▋                 | 59/99 [33:29<24:58, 37.45s/it]"
     ]
    },
    {
     "name": "stdout",
     "output_type": "stream",
     "text": [
      "1661415891.9264064\n",
      "1661415901.0257\n"
     ]
    },
    {
     "name": "stderr",
     "output_type": "stream",
     "text": [
      "\r",
      " 61%|██████████████████████████                 | 60/99 [34:05<24:04, 37.04s/it]"
     ]
    },
    {
     "name": "stdout",
     "output_type": "stream",
     "text": [
      "1661415928.0067952\n",
      "1661415936.665242\n"
     ]
    },
    {
     "name": "stderr",
     "output_type": "stream",
     "text": [
      "\r",
      " 62%|██████████████████████████▍                | 61/99 [34:44<23:51, 37.67s/it]"
     ]
    },
    {
     "name": "stdout",
     "output_type": "stream",
     "text": [
      "1661415967.1404772\n",
      "1661415976.8206608\n"
     ]
    },
    {
     "name": "stderr",
     "output_type": "stream",
     "text": [
      "\r",
      " 63%|██████████████████████████▉                | 62/99 [35:22<23:12, 37.62s/it]"
     ]
    },
    {
     "name": "stdout",
     "output_type": "stream",
     "text": [
      "1661416004.660645\n",
      "1661416014.766553\n"
     ]
    },
    {
     "name": "stderr",
     "output_type": "stream",
     "text": [
      "\r",
      " 64%|███████████████████████████▎               | 63/99 [35:59<22:29, 37.48s/it]"
     ]
    },
    {
     "name": "stdout",
     "output_type": "stream",
     "text": [
      "1661416041.8196518\n",
      "1661416049.9494152\n"
     ]
    },
    {
     "name": "stderr",
     "output_type": "stream",
     "text": [
      "\r",
      " 65%|███████████████████████████▊               | 64/99 [36:35<21:34, 36.98s/it]"
     ]
    },
    {
     "name": "stdout",
     "output_type": "stream",
     "text": [
      "1661416077.6066146\n",
      "1661416087.4700341\n"
     ]
    },
    {
     "name": "stderr",
     "output_type": "stream",
     "text": [
      "\r",
      " 66%|████████████████████████████▏              | 65/99 [37:12<21:01, 37.10s/it]"
     ]
    },
    {
     "name": "stdout",
     "output_type": "stream",
     "text": [
      "1661416115.0096977\n",
      "1661416126.6731389\n"
     ]
    },
    {
     "name": "stderr",
     "output_type": "stream",
     "text": [
      "\r",
      " 67%|████████████████████████████▋              | 66/99 [37:56<21:26, 39.00s/it]"
     ]
    },
    {
     "name": "stdout",
     "output_type": "stream",
     "text": [
      "1661416158.4339519\n",
      "1661416169.7639196\n"
     ]
    },
    {
     "name": "stderr",
     "output_type": "stream",
     "text": [
      "\r",
      " 68%|█████████████████████████████              | 67/99 [38:37<21:09, 39.66s/it]"
     ]
    },
    {
     "name": "stdout",
     "output_type": "stream",
     "text": [
      "1661416199.6495838\n",
      "1661416209.6455765\n"
     ]
    },
    {
     "name": "stderr",
     "output_type": "stream",
     "text": [
      "\r",
      " 69%|█████████████████████████████▌             | 68/99 [39:16<20:26, 39.58s/it]"
     ]
    },
    {
     "name": "stdout",
     "output_type": "stream",
     "text": [
      "1661416239.0287354\n",
      "1661416249.5011168\n"
     ]
    },
    {
     "name": "stderr",
     "output_type": "stream",
     "text": [
      "\r",
      " 70%|█████████████████████████████▉             | 69/99 [39:57<20:01, 40.06s/it]"
     ]
    },
    {
     "name": "stdout",
     "output_type": "stream",
     "text": [
      "1661416280.211269\n",
      "1661416291.1752925\n"
     ]
    },
    {
     "name": "stderr",
     "output_type": "stream",
     "text": [
      "\r",
      " 71%|██████████████████████████████▍            | 70/99 [40:36<19:06, 39.53s/it]"
     ]
    },
    {
     "name": "stdout",
     "output_type": "stream",
     "text": [
      "1661416318.4921753\n",
      "1661416328.9635823\n"
     ]
    },
    {
     "name": "stderr",
     "output_type": "stream",
     "text": [
      "\r",
      " 72%|██████████████████████████████▊            | 71/99 [41:13<18:08, 38.89s/it]"
     ]
    },
    {
     "name": "stdout",
     "output_type": "stream",
     "text": [
      "1661416355.9070132\n",
      "1661416366.0494905\n"
     ]
    },
    {
     "name": "stderr",
     "output_type": "stream",
     "text": [
      "\r",
      " 73%|███████████████████████████████▎           | 72/99 [41:51<17:18, 38.48s/it]"
     ]
    },
    {
     "name": "stdout",
     "output_type": "stream",
     "text": [
      "1661416393.4238474\n",
      "1661416404.461832\n"
     ]
    },
    {
     "name": "stderr",
     "output_type": "stream",
     "text": [
      "\r",
      " 74%|███████████████████████████████▋           | 73/99 [42:31<16:53, 38.98s/it]"
     ]
    },
    {
     "name": "stdout",
     "output_type": "stream",
     "text": [
      "1661416433.5850258\n",
      "1661416444.779261\n"
     ]
    },
    {
     "name": "stderr",
     "output_type": "stream",
     "text": [
      "\r",
      " 75%|████████████████████████████████▏          | 74/99 [43:12<16:29, 39.58s/it]"
     ]
    },
    {
     "name": "stdout",
     "output_type": "stream",
     "text": [
      "1661416474.5445342\n",
      "1661416486.3660023\n"
     ]
    },
    {
     "name": "stderr",
     "output_type": "stream",
     "text": [
      "\r",
      " 76%|████████████████████████████████▌          | 75/99 [43:51<15:45, 39.38s/it]"
     ]
    },
    {
     "name": "stdout",
     "output_type": "stream",
     "text": [
      "1661416513.463631\n",
      "1661416525.2218647\n"
     ]
    },
    {
     "name": "stderr",
     "output_type": "stream",
     "text": [
      "\r",
      " 77%|█████████████████████████████████          | 76/99 [44:30<15:08, 39.51s/it]"
     ]
    },
    {
     "name": "stdout",
     "output_type": "stream",
     "text": [
      "1661416553.277293\n",
      "1661416564.4382532\n"
     ]
    },
    {
     "name": "stderr",
     "output_type": "stream",
     "text": [
      "\r",
      " 78%|█████████████████████████████████▍         | 77/99 [45:09<14:22, 39.20s/it]"
     ]
    },
    {
     "name": "stdout",
     "output_type": "stream",
     "text": [
      "1661416591.7481723\n",
      "1661416602.7928107\n"
     ]
    },
    {
     "name": "stderr",
     "output_type": "stream",
     "text": [
      "\r",
      " 79%|█████████████████████████████████▉         | 78/99 [45:47<13:39, 39.02s/it]"
     ]
    },
    {
     "name": "stdout",
     "output_type": "stream",
     "text": [
      "1661416630.3547897\n",
      "1661416641.1931715\n"
     ]
    },
    {
     "name": "stderr",
     "output_type": "stream",
     "text": [
      "\r",
      " 80%|██████████████████████████████████▎        | 79/99 [46:27<13:05, 39.25s/it]"
     ]
    },
    {
     "name": "stdout",
     "output_type": "stream",
     "text": [
      "1661416670.1547806\n",
      "1661416681.6694682\n"
     ]
    },
    {
     "name": "stderr",
     "output_type": "stream",
     "text": [
      "\r",
      " 81%|██████████████████████████████████▋        | 80/99 [47:07<12:30, 39.51s/it]"
     ]
    },
    {
     "name": "stdout",
     "output_type": "stream",
     "text": [
      "1661416710.2718394\n",
      "1661416721.0767438\n"
     ]
    },
    {
     "name": "stderr",
     "output_type": "stream",
     "text": [
      "\r",
      " 82%|███████████████████████████████████▏       | 81/99 [47:45<11:40, 38.94s/it]"
     ]
    },
    {
     "name": "stdout",
     "output_type": "stream",
     "text": [
      "1661416747.858419\n",
      "1661416758.8528998\n"
     ]
    },
    {
     "name": "stderr",
     "output_type": "stream",
     "text": [
      "\r",
      " 83%|███████████████████████████████████▌       | 82/99 [48:25<11:09, 39.40s/it]"
     ]
    },
    {
     "name": "stdout",
     "output_type": "stream",
     "text": [
      "1661416788.3522048\n",
      "1661416800.9529274\n"
     ]
    },
    {
     "name": "stderr",
     "output_type": "stream",
     "text": [
      "\r",
      " 84%|████████████████████████████████████       | 83/99 [49:07<10:42, 40.17s/it]"
     ]
    },
    {
     "name": "stdout",
     "output_type": "stream",
     "text": [
      "1661416830.3137808\n",
      "1661416842.7437913\n"
     ]
    },
    {
     "name": "stderr",
     "output_type": "stream",
     "text": [
      "\r",
      " 85%|████████████████████████████████████▍      | 84/99 [49:46<09:57, 39.82s/it]"
     ]
    },
    {
     "name": "stdout",
     "output_type": "stream",
     "text": [
      "1661416869.3062446\n",
      "1661416881.3218505\n"
     ]
    },
    {
     "name": "stderr",
     "output_type": "stream",
     "text": [
      "\r",
      " 86%|████████████████████████████████████▉      | 85/99 [50:30<09:34, 41.01s/it]"
     ]
    },
    {
     "name": "stdout",
     "output_type": "stream",
     "text": [
      "1661416913.1044006\n",
      "1661416925.113969\n"
     ]
    },
    {
     "name": "stderr",
     "output_type": "stream",
     "text": [
      "\r",
      " 87%|█████████████████████████████████████▎     | 86/99 [51:09<08:42, 40.20s/it]"
     ]
    },
    {
     "name": "stdout",
     "output_type": "stream",
     "text": [
      "1661416951.4013994\n",
      "1661416966.170649\n"
     ]
    },
    {
     "name": "stderr",
     "output_type": "stream",
     "text": [
      "\r",
      " 88%|█████████████████████████████████████▊     | 87/99 [51:55<08:25, 42.12s/it]"
     ]
    },
    {
     "name": "stdout",
     "output_type": "stream",
     "text": [
      "1661416997.9965687\n",
      "1661417010.8064177\n"
     ]
    },
    {
     "name": "stderr",
     "output_type": "stream",
     "text": [
      "\r",
      " 89%|██████████████████████████████████████▏    | 88/99 [52:39<07:48, 42.55s/it]"
     ]
    },
    {
     "name": "stdout",
     "output_type": "stream",
     "text": [
      "1661417041.5448532\n",
      "1661417057.6829233\n"
     ]
    },
    {
     "name": "stderr",
     "output_type": "stream",
     "text": [
      "\r",
      " 90%|██████████████████████████████████████▋    | 89/99 [53:22<07:08, 42.82s/it]"
     ]
    },
    {
     "name": "stdout",
     "output_type": "stream",
     "text": [
      "1661417084.9974337\n",
      "1661417098.4535196\n"
     ]
    },
    {
     "name": "stderr",
     "output_type": "stream",
     "text": [
      "\r",
      " 91%|███████████████████████████████████████    | 90/99 [54:05<06:24, 42.74s/it]"
     ]
    },
    {
     "name": "stdout",
     "output_type": "stream",
     "text": [
      "1661417127.5535824\n",
      "1661417140.4901512\n"
     ]
    },
    {
     "name": "stderr",
     "output_type": "stream",
     "text": [
      "\r",
      " 92%|███████████████████████████████████████▌   | 91/99 [54:45<05:37, 42.13s/it]"
     ]
    },
    {
     "name": "stdout",
     "output_type": "stream",
     "text": [
      "1661417168.2481616\n",
      "1661417181.1414728\n"
     ]
    },
    {
     "name": "stderr",
     "output_type": "stream",
     "text": [
      "\r",
      " 93%|███████████████████████████████████████▉   | 92/99 [55:28<04:56, 42.40s/it]"
     ]
    },
    {
     "name": "stdout",
     "output_type": "stream",
     "text": [
      "1661417211.299258\n",
      "1661417225.4905097\n"
     ]
    },
    {
     "name": "stderr",
     "output_type": "stream",
     "text": [
      "\r",
      " 94%|████████████████████████████████████████▍  | 93/99 [56:09<04:11, 42.00s/it]"
     ]
    },
    {
     "name": "stdout",
     "output_type": "stream",
     "text": [
      "1661417252.3518133\n",
      "1661417266.6418989\n"
     ]
    },
    {
     "name": "stderr",
     "output_type": "stream",
     "text": [
      "\r",
      " 95%|████████████████████████████████████████▊  | 94/99 [56:51<03:29, 41.80s/it]"
     ]
    },
    {
     "name": "stdout",
     "output_type": "stream",
     "text": [
      "1661417293.697376\n",
      "1661417307.8229449\n"
     ]
    },
    {
     "name": "stderr",
     "output_type": "stream",
     "text": [
      "\r",
      " 96%|█████████████████████████████████████████▎ | 95/99 [57:33<02:47, 41.85s/it]"
     ]
    },
    {
     "name": "stdout",
     "output_type": "stream",
     "text": [
      "1661417335.6617603\n",
      "1661417348.9092808\n"
     ]
    },
    {
     "name": "stderr",
     "output_type": "stream",
     "text": [
      "\r",
      " 97%|█████████████████████████████████████████▋ | 96/99 [58:14<02:05, 41.78s/it]"
     ]
    },
    {
     "name": "stdout",
     "output_type": "stream",
     "text": [
      "1661417377.2757273\n",
      "1661417392.3333569\n"
     ]
    },
    {
     "name": "stderr",
     "output_type": "stream",
     "text": [
      "\r",
      " 98%|██████████████████████████████████████████▏| 97/99 [58:58<01:24, 42.23s/it]"
     ]
    },
    {
     "name": "stdout",
     "output_type": "stream",
     "text": [
      "1661417420.5545423\n",
      "1661417434.4530082\n"
     ]
    },
    {
     "name": "stderr",
     "output_type": "stream",
     "text": [
      "\r",
      " 99%|██████████████████████████████████████████▌| 98/99 [59:39<00:41, 41.96s/it]"
     ]
    },
    {
     "name": "stdout",
     "output_type": "stream",
     "text": [
      "1661417461.8875668\n",
      "1661417476.5684197\n"
     ]
    },
    {
     "name": "stderr",
     "output_type": "stream",
     "text": [
      "100%|█████████████████████████████████████████| 99/99 [1:00:21<00:00, 36.58s/it]"
     ]
    },
    {
     "name": "stdout",
     "output_type": "stream",
     "text": [
      "1661417503.8100464\n"
     ]
    },
    {
     "name": "stderr",
     "output_type": "stream",
     "text": [
      "\n"
     ]
    }
   ],
   "source": [
    "distortions = []\n",
    "silhouette_avg = []\n",
    "inertias = []\n",
    "mapping1 = {}\n",
    "mapping2 = {}\n",
    "K = range(1, 100)\n",
    "  \n",
    "for k in tqdm(K):\n",
    "    # Building and fitting the model\n",
    "    kmeanModel = KMeans(n_clusters=k, random_state=10)\n",
    "    kmeanModel.fit(dtm)\n",
    "    if k!=1:\n",
    "        print(time.time())\n",
    "        silhouette_avg.append(metrics.silhouette_score(dtm, kmeanModel.labels_))\n",
    "        print(time.time())\n",
    "    inertias.append(kmeanModel.inertia_)\n",
    "    "
   ]
  },
  {
   "cell_type": "code",
   "execution_count": 48,
   "metadata": {},
   "outputs": [
    {
     "name": "stdout",
     "output_type": "stream",
     "text": [
      "1 40980.91118537265\n",
      "1 0.012131693187920378\n",
      "2 40245.03518167946\n",
      "2 0.022696484162925187\n",
      "3 39598.04867147197\n",
      "3 0.026671411378224607\n",
      "4 39303.48291163733\n",
      "4 0.026899175837988232\n",
      "5 39102.42812888483\n",
      "5 0.02919980293322425\n",
      "6 39036.200003090846\n",
      "6 0.029616168223012863\n",
      "7 38778.87946818277\n",
      "7 0.032066428809728605\n",
      "8 38441.46817226881\n",
      "8 0.0333764900008603\n",
      "9 38435.26139615848\n",
      "9 0.03544186113308714\n",
      "10 38177.7075579168\n",
      "10 0.036981666424222515\n",
      "11 37902.18786883368\n",
      "11 0.036604659283571435\n",
      "12 37846.91803920379\n",
      "12 0.03884436976150147\n",
      "13 37614.646172524685\n",
      "13 0.04024880423742561\n",
      "14 37533.84929534506\n",
      "14 0.04308351425958224\n",
      "15 37255.943632257346\n",
      "15 0.04220357752687784\n",
      "16 37262.3032659513\n",
      "16 0.044811871432742144\n",
      "17 37217.52789946416\n",
      "17 0.045798108064525736\n",
      "18 36971.17912098578\n",
      "18 0.04583139578840411\n",
      "19 36904.68450114342\n",
      "19 0.049278894457730156\n",
      "20 36738.724028974364\n",
      "20 0.04897582264321875\n",
      "21 36806.45945445539\n",
      "21 0.050783132037074644\n",
      "22 36468.88399573852\n",
      "22 0.04920750033439438\n",
      "23 36541.64565568859\n",
      "23 0.050207939271285675\n",
      "24 36293.978893062325\n",
      "24 0.053172988625787794\n",
      "25 36394.72088330968\n",
      "25 0.05362350337955867\n",
      "26 36192.7309375946\n",
      "26 0.05470966418980255\n",
      "27 35955.7966195496\n",
      "27 0.05419130948382218\n",
      "28 36184.700158415035\n",
      "28 0.05382606918695444\n",
      "29 35880.8645756637\n",
      "29 0.05728820333223449\n",
      "30 35640.45094811495\n",
      "30 0.059219123703284283\n",
      "31 35748.831895364594\n",
      "31 0.057165654822115795\n",
      "32 35579.41440418198\n",
      "32 0.05638793057807779\n",
      "33 35550.64861880153\n",
      "33 0.0632945472091842\n",
      "34 35402.608813043196\n",
      "34 0.062423478298978034\n",
      "35 35499.224532522865\n",
      "35 0.0652663845119246\n",
      "36 35189.8330447055\n",
      "36 0.06081450985401512\n",
      "37 35157.7416692515\n",
      "37 0.06077107937003888\n",
      "38 35140.24215064067\n",
      "38 0.06418313242193832\n",
      "39 35124.48425471237\n",
      "39 0.06513856787218018\n",
      "40 34904.28330466233\n",
      "40 0.060584111021895704\n",
      "41 35023.663662849314\n",
      "41 0.06642527882859489\n",
      "42 34877.83782163626\n",
      "42 0.06512249795755094\n",
      "43 34804.6243137091\n",
      "43 0.06651934190691217\n",
      "44 34701.445015997655\n",
      "44 0.07022553006373583\n",
      "45 34540.00711765534\n",
      "45 0.06445687610202773\n",
      "46 34692.26125515229\n",
      "46 0.06440669863865281\n",
      "47 34550.53809834801\n",
      "47 0.07082190612976638\n",
      "48 34889.63172102325\n",
      "48 0.06870642721730667\n",
      "49 34771.14710429633\n",
      "49 0.06772806673209665\n",
      "50 34505.60634221354\n",
      "50 0.06894151224781361\n",
      "51 34390.87183484009\n",
      "51 0.07466047947038162\n",
      "52 34141.67621124096\n",
      "52 0.07515455084410376\n",
      "53 34464.95464951237\n",
      "53 0.07610689679472309\n",
      "54 34101.71038205361\n",
      "54 0.07592371299442158\n",
      "55 34271.61508232316\n",
      "55 0.07237408672481263\n",
      "56 34030.50894199229\n",
      "56 0.0824287492646721\n",
      "57 34331.11386354812\n",
      "57 0.08078768046194516\n",
      "58 34140.03873170721\n",
      "58 0.08560863386979188\n",
      "59 34037.43300144814\n",
      "59 0.07196443023434161\n",
      "60 33960.01283880699\n",
      "60 0.08045231198495355\n",
      "61 33989.70492478345\n",
      "61 0.07825178984699042\n",
      "62 33691.64655475995\n",
      "62 0.08220135391241394\n",
      "63 33985.46664014906\n",
      "63 0.08450803624442643\n",
      "64 33868.59223391768\n",
      "64 0.07967221812756434\n",
      "65 33875.08867999008\n",
      "65 0.0851900438119821\n",
      "66 33401.4814985346\n",
      "66 0.08170145077626594\n",
      "67 33422.115186612915\n",
      "67 0.07970884373682455\n",
      "68 33755.226003634816\n",
      "68 0.0791076931503817\n",
      "69 33813.304347240555\n",
      "69 0.0825577280233045\n",
      "70 33630.17561262872\n",
      "70 0.08359573372088511\n",
      "71 33414.65135715212\n",
      "71 0.08060875511474994\n",
      "72 33533.032838532155\n",
      "72 0.09102249677160429\n",
      "73 33344.21529160132\n",
      "73 0.08372550439866049\n",
      "74 33376.59622250305\n",
      "74 0.08582586268643058\n",
      "75 33407.27859564972\n",
      "75 0.08282980248155121\n",
      "76 33286.22507742059\n",
      "76 0.09192575263207683\n",
      "77 32754.559974281372\n",
      "77 0.09211524928750568\n",
      "78 33197.76868248673\n",
      "78 0.08238213753637298\n",
      "79 33148.82277071286\n",
      "79 0.08736485542362517\n",
      "80 33056.83755463285\n",
      "80 0.09187552216007974\n",
      "81 33196.30245907963\n",
      "81 0.08716007136752495\n",
      "82 33147.99977426364\n",
      "82 0.09228174880183736\n",
      "83 33097.97939092846\n",
      "83 0.09423985818455186\n",
      "84 32817.5464688577\n",
      "84 0.09212492983186525\n",
      "85 32941.93604816238\n",
      "85 0.08906836416313908\n",
      "86 32945.00301797139\n",
      "86 0.0955360805234327\n",
      "87 32795.58879121321\n",
      "87 0.09417459427395315\n",
      "88 32791.77951838349\n",
      "88 0.09369254837429764\n",
      "89 32671.39217730387\n",
      "89 0.09341241219368025\n",
      "90 32631.51089960175\n",
      "90 0.09153216576504165\n",
      "91 32703.5125014997\n",
      "91 0.0988763725713826\n",
      "92 32497.268233474246\n",
      "92 0.09577471395199645\n",
      "93 32598.746847709976\n",
      "93 0.09909591469399419\n",
      "94 32454.993299166657\n",
      "94 0.09694469252020589\n",
      "95 32627.984999772987\n",
      "95 0.09493457019532212\n",
      "96 32662.30539298004\n",
      "96 0.09970643490163503\n",
      "97 32286.87024005526\n",
      "97 0.10345800252652823\n",
      "98 32236.493523864672\n",
      "98 0.09515044706803623\n",
      "99 32467.22549869231\n"
     ]
    },
    {
     "ename": "IndexError",
     "evalue": "list index out of range",
     "output_type": "error",
     "traceback": [
      "\u001b[0;31m---------------------------------------------------------------------------\u001b[0m",
      "\u001b[0;31mIndexError\u001b[0m                                Traceback (most recent call last)",
      "Input \u001b[0;32mIn [48]\u001b[0m, in \u001b[0;36m<cell line: 1>\u001b[0;34m()\u001b[0m\n\u001b[1;32m      1\u001b[0m \u001b[38;5;28;01mfor\u001b[39;00m i \u001b[38;5;129;01min\u001b[39;00m \u001b[38;5;28mrange\u001b[39m(\u001b[38;5;28mlen\u001b[39m(K)):\n\u001b[1;32m      2\u001b[0m     \u001b[38;5;28mprint\u001b[39m(K[i], inertias[i])\n\u001b[0;32m----> 3\u001b[0m     \u001b[38;5;28mprint\u001b[39m(K[i], \u001b[43msilhouette_avg\u001b[49m\u001b[43m[\u001b[49m\u001b[43mi\u001b[49m\u001b[43m]\u001b[49m)\n",
      "\u001b[0;31mIndexError\u001b[0m: list index out of range"
     ]
    }
   ],
   "source": [
    "for i in range(len(K)):\n",
    "    print(K[i], inertias[i])\n",
    "    print(K[i], silhouette_avg[i])"
   ]
  },
  {
   "cell_type": "code",
   "execution_count": 49,
   "metadata": {},
   "outputs": [
    {
     "data": {
      "image/png": "[encoded data removed]",
      "text/plain": [
       "<Figure size 640x480 with 1 Axes>"
      ]
     },
     "metadata": {},
     "output_type": "display_data"
    }
   ],
   "source": [
    "plt.plot(K, inertias, 'bx-')\n",
    "plt.xlabel('Values of K')\n",
    "plt.ylabel('Distortion')\n",
    "plt.title('The Elbow Method using Distortion')\n",
    "plt.show()"
   ]
  },
  {
   "cell_type": "code",
   "execution_count": 53,
   "metadata": {},
   "outputs": [
    {
     "data": {
      "image/png": "[encoded data removed]",
      "text/plain": [
       "<Figure size 640x480 with 1 Axes>"
      ]
     },
     "metadata": {},
     "output_type": "display_data"
    }
   ],
   "source": [
    "plt.plot(K[1:],silhouette_avg,'bx-')\n",
    "plt.xlabel('Values of K') \n",
    "plt.ylabel('Silhouette score') \n",
    "plt.title('Silhouette analysis For Optimal k')\n",
    "plt.show()"
   ]
  },
  {
   "cell_type": "code",
   "execution_count": 46,
   "metadata": {},
   "outputs": [],
   "source": [
    "kmeans = KMeans(n_clusters=5, random_state=5).fit(dtm)"
   ]
  },
  {
   "cell_type": "code",
   "execution_count": 50,
   "metadata": {},
   "outputs": [
    {
     "data": {
      "text/plain": [
       "(5, 4912)"
      ]
     },
     "execution_count": 50,
     "metadata": {},
     "output_type": "execute_result"
    }
   ],
   "source": [
    "kmeans.cluster_centers_.shape"
   ]
  },
  {
   "cell_type": "code",
   "execution_count": 52,
   "metadata": {},
   "outputs": [],
   "source": [
    "cluster_center = tfidf.inverse_transform(kmeans.cluster_centers_)"
   ]
  },
  {
   "cell_type": "code",
   "execution_count": 62,
   "metadata": {},
   "outputs": [
    {
     "data": {
      "text/plain": [
       "array(['aa', 'aaccess', 'aaldaych', ..., 'zoom', 'zuora', 'zuroa'],\n",
       "      dtype='<U26')"
      ]
     },
     "execution_count": 62,
     "metadata": {},
     "output_type": "execute_result"
    }
   ],
   "source": []
  },
  {
   "cell_type": "code",
   "execution_count": 34,
   "metadata": {},
   "outputs": [],
   "source": [
    "from sklearn.decomposition import NMF"
   ]
  },
  {
   "cell_type": "code",
   "execution_count": 35,
   "metadata": {},
   "outputs": [],
   "source": [
    "#Coherence model to find best number of topics\n",
    "from gensim.corpora.dictionary import Dictionary\n",
    "from gensim.models.nmf import Nmf\n",
    "from gensim.models.coherencemodel import CoherenceModel\n",
    "from operator import itemgetter\n",
    "\n",
    "# Use Gensim's NMF to get the best num of topics via coherence score\n",
    "texts = df_clean['description_POS_removed']\n",
    "data_set = [x.split() for x in texts]\n",
    "\n",
    "# Creating a dictionary\n",
    "# In gensim a dictionary is a mapping between words and their integer id\n",
    "dictionary = Dictionary(data_set)\n",
    "\n",
    "# Filter out extremes to limit the number of features\n",
    "dictionary.filter_extremes(\n",
    "    no_below=3,\n",
    "    no_above=0.85,\n",
    "    keep_n=5000\n",
    ")\n"
   ]
  },
  {
   "cell_type": "code",
   "execution_count": 36,
   "metadata": {},
   "outputs": [],
   "source": [
    "# Creating the bag-of-words format (list of (token_id, token_count))\n",
    "corpus = [dictionary.doc2bow(text) for text in data_set]\n",
    "\n",
    "# Create a list of the topic numbers we want to try\n",
    "topic_num = list(np.arange(5, 10, 1))\n",
    "\n",
    "# Run the nmf model and calculate the coherence score\n",
    "# for each number of topics\n",
    "coherence_scores = []"
   ]
  },
  {
   "cell_type": "code",
   "execution_count": 37,
   "metadata": {},
   "outputs": [
    {
     "name": "stdout",
     "output_type": "stream",
     "text": [
      "5\n"
     ]
    }
   ],
   "source": [
    "print(len(topic_num))"
   ]
  },
  {
   "cell_type": "code",
   "execution_count": 41,
   "metadata": {},
   "outputs": [
    {
     "data": {
      "text/plain": [
       "[5, 6, 7, 8, 9]"
      ]
     },
     "execution_count": 41,
     "metadata": {},
     "output_type": "execute_result"
    }
   ],
   "source": [
    "topic_num"
   ]
  },
  {
   "cell_type": "code",
   "execution_count": 44,
   "metadata": {},
   "outputs": [
    {
     "name": "stderr",
     "output_type": "stream",
     "text": [
      "\r",
      "  0%|                                                     | 0/5 [00:00<?, ?it/s]"
     ]
    },
    {
     "name": "stdout",
     "output_type": "stream",
     "text": [
      "x\n",
      "y\n"
     ]
    },
    {
     "name": "stderr",
     "output_type": "stream",
     "text": [
      "Process AccumulatingWorker-43:\n",
      "Process AccumulatingWorker-36:\n",
      "Process AccumulatingWorker-32:\n",
      "Process AccumulatingWorker-38:\n",
      "Process AccumulatingWorker-41:\n",
      "Process AccumulatingWorker-34:\n",
      "Process AccumulatingWorker-40:\n",
      "Process AccumulatingWorker-37:\n",
      "Process AccumulatingWorker-42:\n",
      "Process AccumulatingWorker-33:\n",
      "Process AccumulatingWorker-39:\n",
      "Process AccumulatingWorker-31:\n",
      "Process AccumulatingWorker-35:\n",
      "Traceback (most recent call last):\n",
      "Process AccumulatingWorker-44:\n",
      "Traceback (most recent call last):\n",
      "Traceback (most recent call last):\n",
      "  File \"/home/sandrajacob/miniconda3/envs/neuroenv/lib/python3.10/multiprocessing/process.py\", line 318, in _bootstrap\n",
      "    util._exit_function()\n",
      "Traceback (most recent call last):\n",
      "Process AccumulatingWorker-45:\n",
      "Traceback (most recent call last):\n",
      "Traceback (most recent call last):\n",
      "Traceback (most recent call last):\n",
      "Traceback (most recent call last):\n",
      "  File \"/home/sandrajacob/miniconda3/envs/neuroenv/lib/python3.10/multiprocessing/process.py\", line 318, in _bootstrap\n",
      "    util._exit_function()\n",
      "Traceback (most recent call last):\n",
      "Traceback (most recent call last):\n",
      "Traceback (most recent call last):\n",
      "  File \"/home/sandrajacob/miniconda3/envs/neuroenv/lib/python3.10/multiprocessing/process.py\", line 318, in _bootstrap\n",
      "    util._exit_function()\n",
      "Traceback (most recent call last):\n",
      "Traceback (most recent call last):\n",
      "  File \"/home/sandrajacob/miniconda3/envs/neuroenv/lib/python3.10/multiprocessing/process.py\", line 318, in _bootstrap\n",
      "    util._exit_function()\n",
      "  File \"/home/sandrajacob/miniconda3/envs/neuroenv/lib/python3.10/multiprocessing/process.py\", line 318, in _bootstrap\n",
      "    util._exit_function()\n",
      "  File \"/home/sandrajacob/miniconda3/envs/neuroenv/lib/python3.10/multiprocessing/util.py\", line 360, in _exit_function\n",
      "    _run_finalizers()\n",
      "  File \"/home/sandrajacob/miniconda3/envs/neuroenv/lib/python3.10/multiprocessing/process.py\", line 318, in _bootstrap\n",
      "    util._exit_function()\n",
      "Traceback (most recent call last):\n",
      "  File \"/home/sandrajacob/miniconda3/envs/neuroenv/lib/python3.10/multiprocessing/process.py\", line 318, in _bootstrap\n",
      "    util._exit_function()\n",
      "  File \"/home/sandrajacob/miniconda3/envs/neuroenv/lib/python3.10/multiprocessing/process.py\", line 318, in _bootstrap\n",
      "    util._exit_function()\n",
      "Traceback (most recent call last):\n",
      "  File \"/home/sandrajacob/miniconda3/envs/neuroenv/lib/python3.10/multiprocessing/util.py\", line 360, in _exit_function\n",
      "    _run_finalizers()\n",
      "  File \"/home/sandrajacob/miniconda3/envs/neuroenv/lib/python3.10/multiprocessing/process.py\", line 318, in _bootstrap\n",
      "    util._exit_function()\n",
      "  File \"/home/sandrajacob/miniconda3/envs/neuroenv/lib/python3.10/multiprocessing/process.py\", line 318, in _bootstrap\n",
      "    util._exit_function()\n",
      "  File \"/home/sandrajacob/miniconda3/envs/neuroenv/lib/python3.10/multiprocessing/util.py\", line 360, in _exit_function\n",
      "    _run_finalizers()\n",
      "  File \"/home/sandrajacob/miniconda3/envs/neuroenv/lib/python3.10/multiprocessing/util.py\", line 300, in _run_finalizers\n",
      "    finalizer()\n",
      "  File \"/home/sandrajacob/miniconda3/envs/neuroenv/lib/python3.10/multiprocessing/process.py\", line 318, in _bootstrap\n",
      "    util._exit_function()\n",
      "  File \"/home/sandrajacob/miniconda3/envs/neuroenv/lib/python3.10/multiprocessing/util.py\", line 360, in _exit_function\n",
      "    _run_finalizers()\n",
      "  File \"/home/sandrajacob/miniconda3/envs/neuroenv/lib/python3.10/multiprocessing/process.py\", line 318, in _bootstrap\n",
      "    util._exit_function()\n",
      "  File \"/home/sandrajacob/miniconda3/envs/neuroenv/lib/python3.10/multiprocessing/util.py\", line 360, in _exit_function\n",
      "    _run_finalizers()\n",
      "  File \"/home/sandrajacob/miniconda3/envs/neuroenv/lib/python3.10/multiprocessing/util.py\", line 360, in _exit_function\n",
      "    _run_finalizers()\n",
      "  File \"/home/sandrajacob/miniconda3/envs/neuroenv/lib/python3.10/multiprocessing/util.py\", line 360, in _exit_function\n",
      "    _run_finalizers()\n",
      "  File \"/home/sandrajacob/miniconda3/envs/neuroenv/lib/python3.10/multiprocessing/util.py\", line 360, in _exit_function\n",
      "    _run_finalizers()\n",
      "  File \"/home/sandrajacob/miniconda3/envs/neuroenv/lib/python3.10/multiprocessing/util.py\", line 360, in _exit_function\n",
      "    _run_finalizers()\n",
      "  File \"/home/sandrajacob/miniconda3/envs/neuroenv/lib/python3.10/multiprocessing/process.py\", line 318, in _bootstrap\n",
      "    util._exit_function()\n",
      "  File \"/home/sandrajacob/miniconda3/envs/neuroenv/lib/python3.10/multiprocessing/process.py\", line 318, in _bootstrap\n",
      "    util._exit_function()\n",
      "  File \"/home/sandrajacob/miniconda3/envs/neuroenv/lib/python3.10/multiprocessing/process.py\", line 318, in _bootstrap\n",
      "    util._exit_function()\n",
      "  File \"/home/sandrajacob/miniconda3/envs/neuroenv/lib/python3.10/multiprocessing/util.py\", line 300, in _run_finalizers\n",
      "    finalizer()\n",
      "  File \"/home/sandrajacob/miniconda3/envs/neuroenv/lib/python3.10/multiprocessing/util.py\", line 300, in _run_finalizers\n",
      "    finalizer()\n",
      "  File \"/home/sandrajacob/miniconda3/envs/neuroenv/lib/python3.10/multiprocessing/util.py\", line 360, in _exit_function\n",
      "    _run_finalizers()\n",
      "  File \"/home/sandrajacob/miniconda3/envs/neuroenv/lib/python3.10/multiprocessing/util.py\", line 360, in _exit_function\n",
      "    _run_finalizers()\n",
      "  File \"/home/sandrajacob/miniconda3/envs/neuroenv/lib/python3.10/multiprocessing/util.py\", line 300, in _run_finalizers\n",
      "    finalizer()\n",
      "  File \"/home/sandrajacob/miniconda3/envs/neuroenv/lib/python3.10/multiprocessing/util.py\", line 360, in _exit_function\n",
      "    _run_finalizers()\n",
      "  File \"/home/sandrajacob/miniconda3/envs/neuroenv/lib/python3.10/multiprocessing/util.py\", line 224, in __call__\n",
      "    res = self._callback(*self._args, **self._kwargs)\n",
      "  File \"/home/sandrajacob/miniconda3/envs/neuroenv/lib/python3.10/multiprocessing/util.py\", line 300, in _run_finalizers\n",
      "    finalizer()\n",
      "  File \"/home/sandrajacob/miniconda3/envs/neuroenv/lib/python3.10/multiprocessing/util.py\", line 300, in _run_finalizers\n",
      "    finalizer()\n",
      "  File \"/home/sandrajacob/miniconda3/envs/neuroenv/lib/python3.10/multiprocessing/util.py\", line 300, in _run_finalizers\n",
      "    finalizer()\n",
      "  File \"/home/sandrajacob/miniconda3/envs/neuroenv/lib/python3.10/multiprocessing/util.py\", line 224, in __call__\n",
      "    res = self._callback(*self._args, **self._kwargs)\n",
      "  File \"/home/sandrajacob/miniconda3/envs/neuroenv/lib/python3.10/multiprocessing/util.py\", line 360, in _exit_function\n",
      "    _run_finalizers()\n",
      "  File \"/home/sandrajacob/miniconda3/envs/neuroenv/lib/python3.10/multiprocessing/util.py\", line 360, in _exit_function\n",
      "    _run_finalizers()\n",
      "  File \"/home/sandrajacob/miniconda3/envs/neuroenv/lib/python3.10/multiprocessing/util.py\", line 300, in _run_finalizers\n",
      "    finalizer()\n",
      "  File \"/home/sandrajacob/miniconda3/envs/neuroenv/lib/python3.10/multiprocessing/util.py\", line 224, in __call__\n",
      "    res = self._callback(*self._args, **self._kwargs)\n",
      "  File \"/home/sandrajacob/miniconda3/envs/neuroenv/lib/python3.10/multiprocessing/util.py\", line 224, in __call__\n",
      "    res = self._callback(*self._args, **self._kwargs)\n",
      "  File \"/home/sandrajacob/miniconda3/envs/neuroenv/lib/python3.10/multiprocessing/util.py\", line 360, in _exit_function\n",
      "    _run_finalizers()\n",
      "  File \"/home/sandrajacob/miniconda3/envs/neuroenv/lib/python3.10/multiprocessing/util.py\", line 300, in _run_finalizers\n",
      "    finalizer()\n",
      "  File \"/home/sandrajacob/miniconda3/envs/neuroenv/lib/python3.10/multiprocessing/util.py\", line 300, in _run_finalizers\n",
      "    finalizer()\n",
      "  File \"/home/sandrajacob/miniconda3/envs/neuroenv/lib/python3.10/multiprocessing/util.py\", line 300, in _run_finalizers\n",
      "    finalizer()\n",
      "  File \"/home/sandrajacob/miniconda3/envs/neuroenv/lib/python3.10/multiprocessing/util.py\", line 300, in _run_finalizers\n",
      "    finalizer()\n",
      "  File \"/home/sandrajacob/miniconda3/envs/neuroenv/lib/python3.10/multiprocessing/queues.py\", line 201, in _finalize_join\n",
      "    thread.join()\n",
      "  File \"/home/sandrajacob/miniconda3/envs/neuroenv/lib/python3.10/multiprocessing/queues.py\", line 201, in _finalize_join\n",
      "    thread.join()\n",
      "  File \"/home/sandrajacob/miniconda3/envs/neuroenv/lib/python3.10/multiprocessing/util.py\", line 224, in __call__\n",
      "    res = self._callback(*self._args, **self._kwargs)\n",
      "  File \"/home/sandrajacob/miniconda3/envs/neuroenv/lib/python3.10/multiprocessing/util.py\", line 224, in __call__\n",
      "    res = self._callback(*self._args, **self._kwargs)\n"
     ]
    },
    {
     "name": "stderr",
     "output_type": "stream",
     "text": [
      "  File \"/home/sandrajacob/miniconda3/envs/neuroenv/lib/python3.10/multiprocessing/util.py\", line 224, in __call__\n",
      "    res = self._callback(*self._args, **self._kwargs)\n",
      "  File \"/home/sandrajacob/miniconda3/envs/neuroenv/lib/python3.10/multiprocessing/util.py\", line 300, in _run_finalizers\n",
      "    finalizer()\n",
      "  File \"/home/sandrajacob/miniconda3/envs/neuroenv/lib/python3.10/multiprocessing/util.py\", line 224, in __call__\n",
      "    res = self._callback(*self._args, **self._kwargs)\n",
      "  File \"/home/sandrajacob/miniconda3/envs/neuroenv/lib/python3.10/multiprocessing/util.py\", line 300, in _run_finalizers\n",
      "    finalizer()\n",
      "  File \"/home/sandrajacob/miniconda3/envs/neuroenv/lib/python3.10/multiprocessing/queues.py\", line 201, in _finalize_join\n",
      "    thread.join()\n",
      "  File \"/home/sandrajacob/miniconda3/envs/neuroenv/lib/python3.10/multiprocessing/queues.py\", line 201, in _finalize_join\n",
      "    thread.join()\n",
      "  File \"/home/sandrajacob/miniconda3/envs/neuroenv/lib/python3.10/multiprocessing/util.py\", line 224, in __call__\n",
      "    res = self._callback(*self._args, **self._kwargs)\n",
      "  File \"/home/sandrajacob/miniconda3/envs/neuroenv/lib/python3.10/multiprocessing/util.py\", line 300, in _run_finalizers\n",
      "    finalizer()\n",
      "  File \"/home/sandrajacob/miniconda3/envs/neuroenv/lib/python3.10/multiprocessing/util.py\", line 224, in __call__\n",
      "    res = self._callback(*self._args, **self._kwargs)\n",
      "  File \"/home/sandrajacob/miniconda3/envs/neuroenv/lib/python3.10/multiprocessing/util.py\", line 224, in __call__\n",
      "    res = self._callback(*self._args, **self._kwargs)\n",
      "  File \"/home/sandrajacob/miniconda3/envs/neuroenv/lib/python3.10/multiprocessing/util.py\", line 224, in __call__\n",
      "    res = self._callback(*self._args, **self._kwargs)\n",
      "  File \"/home/sandrajacob/miniconda3/envs/neuroenv/lib/python3.10/threading.py\", line 1089, in join\n",
      "    self._wait_for_tstate_lock()\n",
      "  File \"/home/sandrajacob/miniconda3/envs/neuroenv/lib/python3.10/multiprocessing/util.py\", line 224, in __call__\n",
      "    res = self._callback(*self._args, **self._kwargs)\n",
      "  File \"/home/sandrajacob/miniconda3/envs/neuroenv/lib/python3.10/multiprocessing/util.py\", line 224, in __call__\n",
      "    res = self._callback(*self._args, **self._kwargs)\n",
      "  File \"/home/sandrajacob/miniconda3/envs/neuroenv/lib/python3.10/multiprocessing/queues.py\", line 201, in _finalize_join\n",
      "    thread.join()\n",
      "  File \"/home/sandrajacob/miniconda3/envs/neuroenv/lib/python3.10/multiprocessing/util.py\", line 224, in __call__\n",
      "    res = self._callback(*self._args, **self._kwargs)\n",
      "  File \"/home/sandrajacob/miniconda3/envs/neuroenv/lib/python3.10/multiprocessing/queues.py\", line 201, in _finalize_join\n",
      "    thread.join()\n",
      "  File \"/home/sandrajacob/miniconda3/envs/neuroenv/lib/python3.10/multiprocessing/queues.py\", line 201, in _finalize_join\n",
      "    thread.join()\n",
      "  File \"/home/sandrajacob/miniconda3/envs/neuroenv/lib/python3.10/threading.py\", line 1089, in join\n",
      "    self._wait_for_tstate_lock()\n",
      "  File \"/home/sandrajacob/miniconda3/envs/neuroenv/lib/python3.10/multiprocessing/queues.py\", line 201, in _finalize_join\n",
      "    thread.join()\n",
      "  File \"/home/sandrajacob/miniconda3/envs/neuroenv/lib/python3.10/threading.py\", line 1089, in join\n",
      "    self._wait_for_tstate_lock()\n",
      "  File \"/home/sandrajacob/miniconda3/envs/neuroenv/lib/python3.10/multiprocessing/queues.py\", line 201, in _finalize_join\n",
      "    thread.join()\n",
      "  File \"/home/sandrajacob/miniconda3/envs/neuroenv/lib/python3.10/multiprocessing/queues.py\", line 201, in _finalize_join\n",
      "    thread.join()\n",
      "  File \"/home/sandrajacob/miniconda3/envs/neuroenv/lib/python3.10/multiprocessing/queues.py\", line 201, in _finalize_join\n",
      "    thread.join()\n",
      "  File \"/home/sandrajacob/miniconda3/envs/neuroenv/lib/python3.10/threading.py\", line 1109, in _wait_for_tstate_lock\n",
      "    if lock.acquire(block, timeout):\n",
      "  File \"/home/sandrajacob/miniconda3/envs/neuroenv/lib/python3.10/multiprocessing/queues.py\", line 201, in _finalize_join\n",
      "    thread.join()\n",
      "  File \"/home/sandrajacob/miniconda3/envs/neuroenv/lib/python3.10/threading.py\", line 1089, in join\n",
      "    self._wait_for_tstate_lock()\n",
      "  File \"/home/sandrajacob/miniconda3/envs/neuroenv/lib/python3.10/threading.py\", line 1089, in join\n",
      "    self._wait_for_tstate_lock()\n",
      "  File \"/home/sandrajacob/miniconda3/envs/neuroenv/lib/python3.10/threading.py\", line 1089, in join\n",
      "    self._wait_for_tstate_lock()\n",
      "  File \"/home/sandrajacob/miniconda3/envs/neuroenv/lib/python3.10/multiprocessing/queues.py\", line 201, in _finalize_join\n",
      "    thread.join()\n",
      "  File \"/home/sandrajacob/miniconda3/envs/neuroenv/lib/python3.10/threading.py\", line 1089, in join\n",
      "    self._wait_for_tstate_lock()\n",
      "  File \"/home/sandrajacob/miniconda3/envs/neuroenv/lib/python3.10/threading.py\", line 1109, in _wait_for_tstate_lock\n",
      "    if lock.acquire(block, timeout):\n",
      "  File \"/home/sandrajacob/miniconda3/envs/neuroenv/lib/python3.10/multiprocessing/queues.py\", line 201, in _finalize_join\n",
      "    thread.join()\n",
      "  File \"/home/sandrajacob/miniconda3/envs/neuroenv/lib/python3.10/multiprocessing/queues.py\", line 201, in _finalize_join\n",
      "    thread.join()\n",
      "  File \"/home/sandrajacob/miniconda3/envs/neuroenv/lib/python3.10/threading.py\", line 1109, in _wait_for_tstate_lock\n",
      "    if lock.acquire(block, timeout):\n",
      "  File \"/home/sandrajacob/miniconda3/envs/neuroenv/lib/python3.10/threading.py\", line 1089, in join\n",
      "    self._wait_for_tstate_lock()\n",
      "  File \"/home/sandrajacob/miniconda3/envs/neuroenv/lib/python3.10/threading.py\", line 1089, in join\n",
      "    self._wait_for_tstate_lock()\n",
      "  File \"/home/sandrajacob/miniconda3/envs/neuroenv/lib/python3.10/threading.py\", line 1089, in join\n",
      "    self._wait_for_tstate_lock()\n",
      "  File \"/home/sandrajacob/miniconda3/envs/neuroenv/lib/python3.10/threading.py\", line 1089, in join\n",
      "    self._wait_for_tstate_lock()\n",
      "  File \"/home/sandrajacob/miniconda3/envs/neuroenv/lib/python3.10/threading.py\", line 1089, in join\n",
      "    self._wait_for_tstate_lock()\n",
      "  File \"/home/sandrajacob/miniconda3/envs/neuroenv/lib/python3.10/threading.py\", line 1089, in join\n",
      "    self._wait_for_tstate_lock()\n",
      "  File \"/home/sandrajacob/miniconda3/envs/neuroenv/lib/python3.10/threading.py\", line 1109, in _wait_for_tstate_lock\n",
      "    if lock.acquire(block, timeout):\n",
      "  File \"/home/sandrajacob/miniconda3/envs/neuroenv/lib/python3.10/threading.py\", line 1109, in _wait_for_tstate_lock\n",
      "    if lock.acquire(block, timeout):\n",
      "  File \"/home/sandrajacob/miniconda3/envs/neuroenv/lib/python3.10/threading.py\", line 1089, in join\n",
      "    self._wait_for_tstate_lock()\n",
      "KeyboardInterrupt\n",
      "  File \"/home/sandrajacob/miniconda3/envs/neuroenv/lib/python3.10/threading.py\", line 1109, in _wait_for_tstate_lock\n",
      "    if lock.acquire(block, timeout):\n",
      "  File \"/home/sandrajacob/miniconda3/envs/neuroenv/lib/python3.10/threading.py\", line 1089, in join\n",
      "    self._wait_for_tstate_lock()\n",
      "  File \"/home/sandrajacob/miniconda3/envs/neuroenv/lib/python3.10/threading.py\", line 1109, in _wait_for_tstate_lock\n",
      "    if lock.acquire(block, timeout):\n",
      "  File \"/home/sandrajacob/miniconda3/envs/neuroenv/lib/python3.10/threading.py\", line 1109, in _wait_for_tstate_lock\n",
      "    if lock.acquire(block, timeout):\n",
      "  File \"/home/sandrajacob/miniconda3/envs/neuroenv/lib/python3.10/threading.py\", line 1109, in _wait_for_tstate_lock\n",
      "    if lock.acquire(block, timeout):\n",
      "  File \"/home/sandrajacob/miniconda3/envs/neuroenv/lib/python3.10/threading.py\", line 1109, in _wait_for_tstate_lock\n",
      "    if lock.acquire(block, timeout):\n",
      "  File \"/home/sandrajacob/miniconda3/envs/neuroenv/lib/python3.10/threading.py\", line 1109, in _wait_for_tstate_lock\n",
      "    if lock.acquire(block, timeout):\n",
      "KeyboardInterrupt\n",
      "  File \"/home/sandrajacob/miniconda3/envs/neuroenv/lib/python3.10/threading.py\", line 1109, in _wait_for_tstate_lock\n",
      "    if lock.acquire(block, timeout):\n",
      "KeyboardInterrupt\n",
      "KeyboardInterrupt\n",
      "  File \"/home/sandrajacob/miniconda3/envs/neuroenv/lib/python3.10/threading.py\", line 1109, in _wait_for_tstate_lock\n",
      "    if lock.acquire(block, timeout):\n",
      "KeyboardInterrupt\n",
      "  File \"/home/sandrajacob/miniconda3/envs/neuroenv/lib/python3.10/threading.py\", line 1109, in _wait_for_tstate_lock\n",
      "    if lock.acquire(block, timeout):\n",
      "KeyboardInterrupt\n",
      "KeyboardInterrupt\n",
      "KeyboardInterrupt\n",
      "KeyboardInterrupt\n",
      "KeyboardInterrupt\n",
      "KeyboardInterrupt\n",
      "KeyboardInterrupt\n",
      "  File \"/home/sandrajacob/miniconda3/envs/neuroenv/lib/python3.10/threading.py\", line 1109, in _wait_for_tstate_lock\n",
      "    if lock.acquire(block, timeout):\n"
     ]
    },
    {
     "name": "stderr",
     "output_type": "stream",
     "text": [
      "KeyboardInterrupt\n",
      "KeyboardInterrupt\n",
      "KeyboardInterrupt\n",
      "  0%|                                                     | 0/5 [05:13<?, ?it/s]\n"
     ]
    },
    {
     "ename": "KeyboardInterrupt",
     "evalue": "",
     "output_type": "error",
     "traceback": [
      "\u001b[0;31m---------------------------------------------------------------------------\u001b[0m",
      "\u001b[0;31mKeyboardInterrupt\u001b[0m                         Traceback (most recent call last)",
      "Input \u001b[0;32mIn [44]\u001b[0m, in \u001b[0;36m<cell line: 1>\u001b[0;34m()\u001b[0m\n\u001b[1;32m     20\u001b[0m coherence_model \u001b[38;5;241m=\u001b[39m CoherenceModel(\n\u001b[1;32m     21\u001b[0m     model\u001b[38;5;241m=\u001b[39mnmf,\n\u001b[1;32m     22\u001b[0m     texts\u001b[38;5;241m=\u001b[39mtexts,\n\u001b[1;32m     23\u001b[0m     dictionary\u001b[38;5;241m=\u001b[39mdictionary,\n\u001b[1;32m     24\u001b[0m     coherence\u001b[38;5;241m=\u001b[39m\u001b[38;5;124m'\u001b[39m\u001b[38;5;124mc_uci\u001b[39m\u001b[38;5;124m'\u001b[39m\n\u001b[1;32m     25\u001b[0m )\n\u001b[1;32m     26\u001b[0m \u001b[38;5;28mprint\u001b[39m(\u001b[38;5;124m\"\u001b[39m\u001b[38;5;124my\u001b[39m\u001b[38;5;124m\"\u001b[39m)\n\u001b[0;32m---> 27\u001b[0m coherence_scores\u001b[38;5;241m.\u001b[39mappend(\u001b[38;5;28mround\u001b[39m(\u001b[43mcoherence_model\u001b[49m\u001b[38;5;241;43m.\u001b[39;49m\u001b[43mget_coherence\u001b[49m\u001b[43m(\u001b[49m\u001b[43m)\u001b[49m, \u001b[38;5;241m5\u001b[39m))\n",
      "File \u001b[0;32m~/miniconda3/envs/neuroenv/lib/python3.10/site-packages/gensim/models/coherencemodel.py:615\u001b[0m, in \u001b[0;36mCoherenceModel.get_coherence\u001b[0;34m(self)\u001b[0m\n\u001b[1;32m    606\u001b[0m \u001b[38;5;28;01mdef\u001b[39;00m \u001b[38;5;21mget_coherence\u001b[39m(\u001b[38;5;28mself\u001b[39m):\n\u001b[1;32m    607\u001b[0m     \u001b[38;5;124;03m\"\"\"Get coherence value based on pipeline parameters.\u001b[39;00m\n\u001b[1;32m    608\u001b[0m \n\u001b[1;32m    609\u001b[0m \u001b[38;5;124;03m    Returns\u001b[39;00m\n\u001b[0;32m   (...)\u001b[0m\n\u001b[1;32m    613\u001b[0m \n\u001b[1;32m    614\u001b[0m \u001b[38;5;124;03m    \"\"\"\u001b[39;00m\n\u001b[0;32m--> 615\u001b[0m     confirmed_measures \u001b[38;5;241m=\u001b[39m \u001b[38;5;28;43mself\u001b[39;49m\u001b[38;5;241;43m.\u001b[39;49m\u001b[43mget_coherence_per_topic\u001b[49m\u001b[43m(\u001b[49m\u001b[43m)\u001b[49m\n\u001b[1;32m    616\u001b[0m     \u001b[38;5;28;01mreturn\u001b[39;00m \u001b[38;5;28mself\u001b[39m\u001b[38;5;241m.\u001b[39maggregate_measures(confirmed_measures)\n",
      "File \u001b[0;32m~/miniconda3/envs/neuroenv/lib/python3.10/site-packages/gensim/models/coherencemodel.py:575\u001b[0m, in \u001b[0;36mCoherenceModel.get_coherence_per_topic\u001b[0;34m(self, segmented_topics, with_std, with_support)\u001b[0m\n\u001b[1;32m    573\u001b[0m     segmented_topics \u001b[38;5;241m=\u001b[39m measure\u001b[38;5;241m.\u001b[39mseg(\u001b[38;5;28mself\u001b[39m\u001b[38;5;241m.\u001b[39mtopics)\n\u001b[1;32m    574\u001b[0m \u001b[38;5;28;01mif\u001b[39;00m \u001b[38;5;28mself\u001b[39m\u001b[38;5;241m.\u001b[39m_accumulator \u001b[38;5;129;01mis\u001b[39;00m \u001b[38;5;28;01mNone\u001b[39;00m:\n\u001b[0;32m--> 575\u001b[0m     \u001b[38;5;28;43mself\u001b[39;49m\u001b[38;5;241;43m.\u001b[39;49m\u001b[43mestimate_probabilities\u001b[49m\u001b[43m(\u001b[49m\u001b[43msegmented_topics\u001b[49m\u001b[43m)\u001b[49m\n\u001b[1;32m    577\u001b[0m kwargs \u001b[38;5;241m=\u001b[39m \u001b[38;5;28mdict\u001b[39m(with_std\u001b[38;5;241m=\u001b[39mwith_std, with_support\u001b[38;5;241m=\u001b[39mwith_support)\n\u001b[1;32m    578\u001b[0m \u001b[38;5;28;01mif\u001b[39;00m \u001b[38;5;28mself\u001b[39m\u001b[38;5;241m.\u001b[39mcoherence \u001b[38;5;129;01min\u001b[39;00m BOOLEAN_DOCUMENT_BASED \u001b[38;5;129;01mor\u001b[39;00m \u001b[38;5;28mself\u001b[39m\u001b[38;5;241m.\u001b[39mcoherence \u001b[38;5;241m==\u001b[39m \u001b[38;5;124m'\u001b[39m\u001b[38;5;124mc_w2v\u001b[39m\u001b[38;5;124m'\u001b[39m:\n",
      "File \u001b[0;32m~/miniconda3/envs/neuroenv/lib/python3.10/site-packages/gensim/models/coherencemodel.py:547\u001b[0m, in \u001b[0;36mCoherenceModel.estimate_probabilities\u001b[0;34m(self, segmented_topics)\u001b[0m\n\u001b[1;32m    544\u001b[0m     \u001b[38;5;28;01mif\u001b[39;00m \u001b[38;5;28mself\u001b[39m\u001b[38;5;241m.\u001b[39mcoherence \u001b[38;5;241m==\u001b[39m \u001b[38;5;124m'\u001b[39m\u001b[38;5;124mc_w2v\u001b[39m\u001b[38;5;124m'\u001b[39m:\n\u001b[1;32m    545\u001b[0m         kwargs[\u001b[38;5;124m'\u001b[39m\u001b[38;5;124mmodel\u001b[39m\u001b[38;5;124m'\u001b[39m] \u001b[38;5;241m=\u001b[39m \u001b[38;5;28mself\u001b[39m\u001b[38;5;241m.\u001b[39mkeyed_vectors\n\u001b[0;32m--> 547\u001b[0m     \u001b[38;5;28mself\u001b[39m\u001b[38;5;241m.\u001b[39m_accumulator \u001b[38;5;241m=\u001b[39m \u001b[38;5;28;43mself\u001b[39;49m\u001b[38;5;241;43m.\u001b[39;49m\u001b[43mmeasure\u001b[49m\u001b[38;5;241;43m.\u001b[39;49m\u001b[43mprob\u001b[49m\u001b[43m(\u001b[49m\u001b[38;5;241;43m*\u001b[39;49m\u001b[38;5;241;43m*\u001b[39;49m\u001b[43mkwargs\u001b[49m\u001b[43m)\u001b[49m\n\u001b[1;32m    549\u001b[0m \u001b[38;5;28;01mreturn\u001b[39;00m \u001b[38;5;28mself\u001b[39m\u001b[38;5;241m.\u001b[39m_accumulator\n",
      "File \u001b[0;32m~/miniconda3/envs/neuroenv/lib/python3.10/site-packages/gensim/topic_coherence/probability_estimation.py:156\u001b[0m, in \u001b[0;36mp_boolean_sliding_window\u001b[0;34m(texts, segmented_topics, dictionary, window_size, processes)\u001b[0m\n\u001b[1;32m    154\u001b[0m     accumulator \u001b[38;5;241m=\u001b[39m ParallelWordOccurrenceAccumulator(processes, top_ids, dictionary)\n\u001b[1;32m    155\u001b[0m logger\u001b[38;5;241m.\u001b[39minfo(\u001b[38;5;124m\"\u001b[39m\u001b[38;5;124musing \u001b[39m\u001b[38;5;132;01m%s\u001b[39;00m\u001b[38;5;124m to estimate probabilities from sliding windows\u001b[39m\u001b[38;5;124m\"\u001b[39m, accumulator)\n\u001b[0;32m--> 156\u001b[0m \u001b[38;5;28;01mreturn\u001b[39;00m \u001b[43maccumulator\u001b[49m\u001b[38;5;241;43m.\u001b[39;49m\u001b[43maccumulate\u001b[49m\u001b[43m(\u001b[49m\u001b[43mtexts\u001b[49m\u001b[43m,\u001b[49m\u001b[43m \u001b[49m\u001b[43mwindow_size\u001b[49m\u001b[43m)\u001b[49m\n",
      "File \u001b[0;32m~/miniconda3/envs/neuroenv/lib/python3.10/site-packages/gensim/topic_coherence/text_analysis.py:444\u001b[0m, in \u001b[0;36mParallelWordOccurrenceAccumulator.accumulate\u001b[0;34m(self, texts, window_size)\u001b[0m\n\u001b[1;32m    441\u001b[0m     logger\u001b[38;5;241m.\u001b[39mwarn(\u001b[38;5;124m\"\u001b[39m\u001b[38;5;124mstats accumulation interrupted; <= \u001b[39m\u001b[38;5;132;01m%d\u001b[39;00m\u001b[38;5;124m documents processed\u001b[39m\u001b[38;5;124m\"\u001b[39m, \u001b[38;5;28mself\u001b[39m\u001b[38;5;241m.\u001b[39m_num_docs)\n\u001b[1;32m    442\u001b[0m     interrupted \u001b[38;5;241m=\u001b[39m \u001b[38;5;28;01mTrue\u001b[39;00m\n\u001b[0;32m--> 444\u001b[0m accumulators \u001b[38;5;241m=\u001b[39m \u001b[38;5;28;43mself\u001b[39;49m\u001b[38;5;241;43m.\u001b[39;49m\u001b[43mterminate_workers\u001b[49m\u001b[43m(\u001b[49m\u001b[43minput_q\u001b[49m\u001b[43m,\u001b[49m\u001b[43m \u001b[49m\u001b[43moutput_q\u001b[49m\u001b[43m,\u001b[49m\u001b[43m \u001b[49m\u001b[43mworkers\u001b[49m\u001b[43m,\u001b[49m\u001b[43m \u001b[49m\u001b[43minterrupted\u001b[49m\u001b[43m)\u001b[49m\n\u001b[1;32m    445\u001b[0m \u001b[38;5;28;01mreturn\u001b[39;00m \u001b[38;5;28mself\u001b[39m\u001b[38;5;241m.\u001b[39mmerge_accumulators(accumulators)\n",
      "File \u001b[0;32m~/miniconda3/envs/neuroenv/lib/python3.10/site-packages/gensim/topic_coherence/text_analysis.py:521\u001b[0m, in \u001b[0;36mParallelWordOccurrenceAccumulator.terminate_workers\u001b[0;34m(self, input_q, output_q, workers, interrupted)\u001b[0m\n\u001b[1;32m    519\u001b[0m accumulators \u001b[38;5;241m=\u001b[39m []\n\u001b[1;32m    520\u001b[0m \u001b[38;5;28;01mwhile\u001b[39;00m \u001b[38;5;28mlen\u001b[39m(accumulators) \u001b[38;5;241m!=\u001b[39m \u001b[38;5;28mlen\u001b[39m(workers):\n\u001b[0;32m--> 521\u001b[0m     accumulators\u001b[38;5;241m.\u001b[39mappend(\u001b[43moutput_q\u001b[49m\u001b[38;5;241;43m.\u001b[39;49m\u001b[43mget\u001b[49m\u001b[43m(\u001b[49m\u001b[43m)\u001b[49m)\n\u001b[1;32m    522\u001b[0m logger\u001b[38;5;241m.\u001b[39minfo(\u001b[38;5;124m\"\u001b[39m\u001b[38;5;132;01m%d\u001b[39;00m\u001b[38;5;124m accumulators retrieved from output queue\u001b[39m\u001b[38;5;124m\"\u001b[39m, \u001b[38;5;28mlen\u001b[39m(accumulators))\n\u001b[1;32m    524\u001b[0m \u001b[38;5;28;01mfor\u001b[39;00m worker \u001b[38;5;129;01min\u001b[39;00m workers:\n",
      "File \u001b[0;32m~/miniconda3/envs/neuroenv/lib/python3.10/multiprocessing/queues.py:103\u001b[0m, in \u001b[0;36mQueue.get\u001b[0;34m(self, block, timeout)\u001b[0m\n\u001b[1;32m    101\u001b[0m \u001b[38;5;28;01mif\u001b[39;00m block \u001b[38;5;129;01mand\u001b[39;00m timeout \u001b[38;5;129;01mis\u001b[39;00m \u001b[38;5;28;01mNone\u001b[39;00m:\n\u001b[1;32m    102\u001b[0m     \u001b[38;5;28;01mwith\u001b[39;00m \u001b[38;5;28mself\u001b[39m\u001b[38;5;241m.\u001b[39m_rlock:\n\u001b[0;32m--> 103\u001b[0m         res \u001b[38;5;241m=\u001b[39m \u001b[38;5;28;43mself\u001b[39;49m\u001b[38;5;241;43m.\u001b[39;49m\u001b[43m_recv_bytes\u001b[49m\u001b[43m(\u001b[49m\u001b[43m)\u001b[49m\n\u001b[1;32m    104\u001b[0m     \u001b[38;5;28mself\u001b[39m\u001b[38;5;241m.\u001b[39m_sem\u001b[38;5;241m.\u001b[39mrelease()\n\u001b[1;32m    105\u001b[0m \u001b[38;5;28;01melse\u001b[39;00m:\n",
      "File \u001b[0;32m~/miniconda3/envs/neuroenv/lib/python3.10/multiprocessing/connection.py:221\u001b[0m, in \u001b[0;36m_ConnectionBase.recv_bytes\u001b[0;34m(self, maxlength)\u001b[0m\n\u001b[1;32m    219\u001b[0m \u001b[38;5;28;01mif\u001b[39;00m maxlength \u001b[38;5;129;01mis\u001b[39;00m \u001b[38;5;129;01mnot\u001b[39;00m \u001b[38;5;28;01mNone\u001b[39;00m \u001b[38;5;129;01mand\u001b[39;00m maxlength \u001b[38;5;241m<\u001b[39m \u001b[38;5;241m0\u001b[39m:\n\u001b[1;32m    220\u001b[0m     \u001b[38;5;28;01mraise\u001b[39;00m \u001b[38;5;167;01mValueError\u001b[39;00m(\u001b[38;5;124m\"\u001b[39m\u001b[38;5;124mnegative maxlength\u001b[39m\u001b[38;5;124m\"\u001b[39m)\n\u001b[0;32m--> 221\u001b[0m buf \u001b[38;5;241m=\u001b[39m \u001b[38;5;28;43mself\u001b[39;49m\u001b[38;5;241;43m.\u001b[39;49m\u001b[43m_recv_bytes\u001b[49m\u001b[43m(\u001b[49m\u001b[43mmaxlength\u001b[49m\u001b[43m)\u001b[49m\n\u001b[1;32m    222\u001b[0m \u001b[38;5;28;01mif\u001b[39;00m buf \u001b[38;5;129;01mis\u001b[39;00m \u001b[38;5;28;01mNone\u001b[39;00m:\n\u001b[1;32m    223\u001b[0m     \u001b[38;5;28mself\u001b[39m\u001b[38;5;241m.\u001b[39m_bad_message_length()\n",
      "File \u001b[0;32m~/miniconda3/envs/neuroenv/lib/python3.10/multiprocessing/connection.py:426\u001b[0m, in \u001b[0;36mConnection._recv_bytes\u001b[0;34m(self, maxsize)\u001b[0m\n\u001b[1;32m    424\u001b[0m \u001b[38;5;28;01mif\u001b[39;00m maxsize \u001b[38;5;129;01mis\u001b[39;00m \u001b[38;5;129;01mnot\u001b[39;00m \u001b[38;5;28;01mNone\u001b[39;00m \u001b[38;5;129;01mand\u001b[39;00m size \u001b[38;5;241m>\u001b[39m maxsize:\n\u001b[1;32m    425\u001b[0m     \u001b[38;5;28;01mreturn\u001b[39;00m \u001b[38;5;28;01mNone\u001b[39;00m\n\u001b[0;32m--> 426\u001b[0m \u001b[38;5;28;01mreturn\u001b[39;00m \u001b[38;5;28;43mself\u001b[39;49m\u001b[38;5;241;43m.\u001b[39;49m\u001b[43m_recv\u001b[49m\u001b[43m(\u001b[49m\u001b[43msize\u001b[49m\u001b[43m)\u001b[49m\n",
      "File \u001b[0;32m~/miniconda3/envs/neuroenv/lib/python3.10/multiprocessing/connection.py:384\u001b[0m, in \u001b[0;36mConnection._recv\u001b[0;34m(self, size, read)\u001b[0m\n\u001b[1;32m    382\u001b[0m remaining \u001b[38;5;241m=\u001b[39m size\n\u001b[1;32m    383\u001b[0m \u001b[38;5;28;01mwhile\u001b[39;00m remaining \u001b[38;5;241m>\u001b[39m \u001b[38;5;241m0\u001b[39m:\n\u001b[0;32m--> 384\u001b[0m     chunk \u001b[38;5;241m=\u001b[39m \u001b[43mread\u001b[49m\u001b[43m(\u001b[49m\u001b[43mhandle\u001b[49m\u001b[43m,\u001b[49m\u001b[43m \u001b[49m\u001b[43mremaining\u001b[49m\u001b[43m)\u001b[49m\n\u001b[1;32m    385\u001b[0m     n \u001b[38;5;241m=\u001b[39m \u001b[38;5;28mlen\u001b[39m(chunk)\n\u001b[1;32m    386\u001b[0m     \u001b[38;5;28;01mif\u001b[39;00m n \u001b[38;5;241m==\u001b[39m \u001b[38;5;241m0\u001b[39m:\n",
      "\u001b[0;31mKeyboardInterrupt\u001b[0m: "
     ]
    }
   ],
   "source": [
    "for num in tqdm(topic_num):\n",
    "    nmf = Nmf(\n",
    "        corpus=corpus,\n",
    "        num_topics=num,\n",
    "        id2word=dictionary,\n",
    "        chunksize=2000,\n",
    "        passes=5,\n",
    "        kappa=.1,\n",
    "        minimum_probability=0.01,\n",
    "        w_max_iter=300,\n",
    "        w_stop_condition=0.0001,\n",
    "        h_max_iter=100,\n",
    "        h_stop_condition=0.001,\n",
    "        eval_every=10,\n",
    "        normalize=True,\n",
    "        random_state=40,\n",
    "    )\n",
    "    print(\"x\")\n",
    "    # Run the coherence model to get the score\n",
    "    coherence_model = CoherenceModel(\n",
    "        model=nmf,\n",
    "        texts=texts,\n",
    "        dictionary=dictionary,\n",
    "        coherence='c_uci'\n",
    "    )\n",
    "    print(\"y\")\n",
    "    coherence_scores.append(round(coherence_model.get_coherence(), 5))\n",
    "    "
   ]
  },
  {
   "cell_type": "code",
   "execution_count": null,
   "metadata": {},
   "outputs": [],
   "source": [
    "# Get the number of topics with the highest coherence score\n",
    "scores = list(zip(topic_num, coherence_scores))\n",
    "best_topics_num = sorted(scores, key=itemgetter(1), reverse=True)[0][0]\n",
    "\n",
    "print(best_topics_num)"
   ]
  },
  {
   "cell_type": "code",
   "execution_count": null,
   "metadata": {},
   "outputs": [],
   "source": [
    "df_clean.shape"
   ]
  },
  {
   "cell_type": "code",
   "execution_count": null,
   "metadata": {},
   "outputs": [],
   "source": [
    "# Making a copy of df_clean incase any error occurs\n",
    "df_cleanx =df_clean.copy()"
   ]
  },
  {
   "cell_type": "code",
   "execution_count": null,
   "metadata": {},
   "outputs": [],
   "source": [
    "#Load your nmf_model with the n_components i.e 5\n",
    "\n",
    "nmf_model = NMF(n_components=5,random_state=40)"
   ]
  },
  {
   "cell_type": "code",
   "execution_count": null,
   "metadata": {},
   "outputs": [],
   "source": [
    "nmf_model.fit(dtm)\n",
    "len(tfidf.get_feature_names())"
   ]
  },
  {
   "cell_type": "code",
   "execution_count": null,
   "metadata": {},
   "outputs": [],
   "source": [
    "# Print the top word of a sample component\n",
    "topic_single = nmf_model.components_[0]\n",
    "topic_single.argsort()\n",
    "top_word_index = topic_single.argsort()[-10:]\n",
    "for index in top_word_index:\n",
    "    print(tfidf.get_feature_names()[index])"
   ]
  },
  {
   "cell_type": "code",
   "execution_count": null,
   "metadata": {},
   "outputs": [],
   "source": [
    "#Print the Top15 words for each of the topics\n",
    "for index, topic in enumerate(nmf_model.components_):\n",
    "    print(f'TOP 15 WORDS FOR TOPIC #{index}')\n",
    "    print([tfidf.get_feature_names()[i] for i in topic.argsort()[-15:]])\n",
    "    print('\\n')"
   ]
  },
  {
   "cell_type": "code",
   "execution_count": null,
   "metadata": {},
   "outputs": [],
   "source": [
    "# Create a new 'Topic' column and assign the best topic to each of the complaints\n",
    "\n",
    "df_clean['Topic'] = topic_result.argmax(axis=1)"
   ]
  },
  {
   "cell_type": "code",
   "execution_count": null,
   "metadata": {},
   "outputs": [],
   "source": [
    "df_clean.shape"
   ]
  },
  {
   "cell_type": "code",
   "execution_count": null,
   "metadata": {},
   "outputs": [],
   "source": [
    "df_clean.head()"
   ]
  },
  {
   "cell_type": "code",
   "execution_count": null,
   "metadata": {},
   "outputs": [],
   "source": [
    "#Print the first 5 Complaint for each of the Topics\n",
    "df_clean_5=df_clean.groupby('Topic').head(5)\n",
    "df_clean_5.sort_values('Topic')"
   ]
  },
  {
   "cell_type": "code",
   "execution_count": null,
   "metadata": {},
   "outputs": [],
   "source": []
  }
 ],
 "metadata": {
  "interpreter": {
   "hash": "eaea3085aaff366e3d4dcb735cc07b8d3408847bf706843db92772d0e74153d0"
  },
  "kernelspec": {
   "display_name": "Python [conda env:neuroenv]",
   "language": "python",
   "name": "conda-env-neuroenv-py"
  },
  "language_info": {
   "codemirror_mode": {
    "name": "ipython",
    "version": 3
   },
   "file_extension": ".py",
   "mimetype": "text/x-python",
   "name": "python",
   "nbconvert_exporter": "python",
   "pygments_lexer": "ipython3",
   "version": "3.10.4"
  }
 },
 "nbformat": 4,
 "nbformat_minor": 2
}
